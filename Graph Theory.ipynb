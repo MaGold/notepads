{
 "cells": [
  {
   "cell_type": "markdown",
   "metadata": {},
   "source": [
    "##Notation:\n",
    "\n",
    "- $\\nu$: number of vertices\n",
    "- $\\varepsilon$: number of vertices\n",
    "- $d_c(G)$: vertex degree\n",
    "- $\\delta$: minimum degree\n",
    "- $\\Delta$: maxum degree\n",
    "- $\\omega$: number of connected components\n",
    "- $\\tau$: number of spanning trees\n",
    "- $\\kappa(G)$: connectivity of $G$\n",
    "- *link*: an edge that is not a loop"
   ]
  },
  {
   "cell_type": "markdown",
   "metadata": {},
   "source": [
    "###1.5 Vertex degrees:\n",
    "\n",
    "**Theorem**: $\\sum d(v) = 2 \\varepsilon$.\n",
    "\n",
    "**Corollary**: The number of vertices of odd degree is even.\n",
    "\n",
    "Facts:\n",
    "\n",
    "- $\\delta \\le 2 \\varepsilon/v \\le \\Delta$\n",
    "- In any group of two or more people, there are always two with exactly the same number of frieds.\n",
    "- - Proof: There is a unique vertex that knows $\\Delta$ people (if not unique we would be done). Suppose these friends have unique degrees $1, 2, \\ldots, \\Delta-1$ (note, no 0 because adjacent to max guy). this is impossible; there are $\\Delta$ friends but only $\\Delta-1$ different degrees that they can have.\n",
    "- If $G$ has vertices $v_1, \\ldots, v_v$, the sequence $(d(v_1), \\ldots, d(v_v))$ is a *degree sequence* of $G$.\n",
    "- $(d_1, \\ldots, d_v)$ (non-negative integers) is a degree sequence of some graph iff $\\sum d_i$ is even.\n",
    "- $d = (d_1, \\ldots, d_v)$ is *graphic* if there is a *simple* graph with degree sequence $d$.\n",
    "- Let $d = (d_1, \\ldots, d_v)$ be a non-increasing sequence of non-negative integers; $d' = (d_2-1, \\ldots, d_{d_1+1}-1, d_{d_1+2}, \\ldots, d_v)$. Then $d$ is graphic if and only if $d'$ is graphic."
   ]
  },
  {
   "cell_type": "markdown",
   "metadata": {},
   "source": [
    "###1.6 Paths\n",
    "\n",
    "- *walk*: finite, non-null sequence $W = v_0e_1v_1e_2v_2 \\cdots e_kv_k$ length $k$\n",
    "- for a simple graph, can just write $W = v_0v_1v_2 \\cdots v_k$\n",
    "- *trail*: a walk where all edges are distinct\n",
    "- *path*: a walk where all vertices are distinct\n",
    "- $u$ and $v$ are *connected* if there is a $(u,v)$-path. \n",
    "- Connectedness is an equivalence relation; it partitions $G$ into $\\omega$ connected subgraphs, $G[V_1], \\ldots, G[V_{\\omega}]$, the *connected components* of $G$.\n",
    "\n",
    "Facts:\n",
    "- $G$ simple, connected, not complete $\\implies$ there are 3 vertices $u,v,w$ s.t. $uv, uw \\in E$ but $uw \\notin E$.\n",
    "- - Proof: Consider a vertex of largest degree. Suppose all of its neighbours are connected to all of its other neighbours. Then this implies $G$ is complete, since these neighbours cannot have any outside neighbours (this would violate maximality)."
   ]
  },
  {
   "cell_type": "markdown",
   "metadata": {},
   "source": [
    "###1.7 Cycles:\n",
    "\n",
    "- *cycle*: a trail whose origin and internal vertices are distinct, and origin = terminus\n",
    "\n",
    "**Theorem**: Bipartitie $\\iff$ no odd cycle\n",
    "\n",
    "Facts:\n",
    "\n",
    "- $\\delta \\ge 2 \\implies$ $G$ contains a cycle.\n",
    "- $\\delta \\ge 2$ and $G$ simple $\\implies$ $G$ contains a cycle of length $\\ge \\delta+1$.\n",
    "- - Proof: Consider the longest path. The last vertex on this path has degree at least 2; it must be connected to at least $\\delta$ vertices on the path, otherwise the maximality of the path is violated.\n",
    "- $\\varepsilon \\ge v \\implies$ G contains a cycle. (follows from second fact, at least in simple case)"
   ]
  },
  {
   "cell_type": "markdown",
   "metadata": {},
   "source": [
    "#2 Trees"
   ]
  },
  {
   "cell_type": "markdown",
   "metadata": {},
   "source": [
    "###2.1Trees:\n",
    "\n",
    "- *tree*: a connected acyclic graph\n",
    "- *forest*: an acyclic graph\n",
    "\n",
    "**Theorem**: In a tree, any two vertices are connected by a unique path.\n",
    "\n",
    "**Theorem**: $G$ is a tree $\\implies$ $\\varepsilon = v-1$.\n",
    "\n",
    "**Corollary**: Nontrivial tree $\\implies$ at least two vertices of degree 1.\n",
    "\n",
    "Facts:\n",
    "\n",
    "- Let $G$ be a graph with $v-1$ edges. The following are equivalent:\n",
    "- - 1) G is connected;\n",
    "- - 2) G is acyclic;\n",
    "- - 3) G is a tree.\n",
    "\n",
    "Proof: \n",
    "- 3) implies first two by definition. \n",
    "- Since $ d(v_1) + \\cdots + d(v_v) = 2v-2$, there must be a vertex of degree 0 or 1. \n",
    "- 1) $\\implies$ 2) (by induction on $v$.) Can't be 0 since then $G$ is disconnected. So remove the 1-degree vertex. The remaining graph is connected with $v-2$ edges and $v-1$ vertices. It is acyclic by induction, so is the original.\n",
    "- 2) $\\implies$ 1) (by induction on $v$.) Can't be 0 since that would mean $v-1$ among $v-1$ vertices ($\\implies$ cycle). So remove the 1-degree vertex. The remaining graph is acyclic with $v-2$ edges and $v-1$ vertices. It is connected by induction, so is the original.\n",
    "\n",
    "\n",
    "- $(d_1, \\ldots, d_v)$ positive is a degree sequence of a tree $\\iff$ $\\sum d_i = 2(v-1)$.\n",
    "\n",
    "Proof:\n",
    "- ($\\rightarrow$) By imduction on $v$. True for $v=1$. Suppose true up to $v$. Suppose $(d_1, \\ldots, d_{v})$ is a degree sequence for a tree; since the tree has a vertex of degree 1, we can remove it and still have a tree, with deg seq $(d_1, \\ldots, d_{v-1})$. By induction, this tree satisfies $\\sum^{v-1} d_i = 2((v-1)-1) = 2v-4$. Adding in the removed edge and vertex still gives us a tree, we degree sum $2v-4+2$.\n",
    "- ($\\leftarrow$) Let $G$ be a graph with deg seq $(d_1, \\ldots, d_{v})$ and as few components as possible. If there is one component we are done. Consider two separate components with adjacent vertices ab and uv (these exist by the positivity assumption). We can connect them without disrubting degrees by disconnecting them, and making connections au, bv. Contradiction."
   ]
  },
  {
   "cell_type": "markdown",
   "metadata": {},
   "source": [
    "###2.2 Cut edges\n",
    "- *cut edge*: an edge $e$ s.t. $\\omega(G-e) > \\omega(G)$.\n",
    "\n",
    "**Theorem**: $e$ is a cut edge $\\iff$ $e$ is contained in no cycle.\n",
    "\n",
    "**Theorem**: $G$ is a tree $\\iff$ every edge is a cut edge.\n",
    "\n",
    "- *spanning tree*: a spanning subgraph of $G$ that is a tree.\n",
    "\n",
    "**Corollaries**:\n",
    "- Every connected graph contains a spanning tree.\n",
    "- $G$ connected $\\implies$ $\\varepsilon \\ge v-1$.\n",
    "\n",
    "**Theorem**: Let $T$ be a spanning tree of a connected graph $G$. Let $e$ be an edge of $G$ not in $T$. Then $T+e$ contains a unique cycle.\n",
    "\n",
    "Facts:\n",
    "\n",
    "- If each degree in $G$ is even, then $G$ has no cut edge.\n",
    "- - Proof: Suppose a cut edge disconnects into $G_1, G_2$. Then $G_1$ has a single vertex of odd degree, which is not allowed."
   ]
  },
  {
   "cell_type": "markdown",
   "metadata": {},
   "source": [
    "###2.3 Cut vertices\n",
    "\n",
    "*cut vertex*: $v$ is a cut vertex if edges $E$ can be partitioned into two nonempty subsets such that $G[E_1], G[E_2]$ have only vertex $v$ in common.\n",
    "\n",
    "i.e. If $G$ is loopless and nontrivial, then $v$ is a cut vertex $\\iff$ $\\omega(G-v) > \\omega(G)$.\n",
    "\n",
    "**Theorem**: A vertex $v$ of a tree is a cut vertex $\\iff$ $d(v)>1$.\n",
    "\n",
    "**Corollary**: Every nontrivial loopless connected graph has at least 2 vertices that are not cut vertices.\n",
    "\n",
    "Facts:\n",
    "\n",
    "- $G$ connected with $v \\ge 3$ then ($G$ has a cut edge $\\implies$ $G$ has a vertex $v$ s.t. $\\omega{G-v} > \\omega{G}$.\n",
    "- Converse not true: consider 3 vertices, $u,v,w$ with 2 edges $uv$ and 2 edges $vw$."
   ]
  },
  {
   "cell_type": "markdown",
   "metadata": {},
   "source": [
    "###2.4 Cayley's formula\n",
    "\n",
    "- $e$ is *contracted* by removing it from $G$ and merging its vertices, denoted by $G \\cdot e$\n",
    "- if $e$ is a link then $\\nu(G \\cdot e) = \\nu(G)-1$ and $\\varepsilon(G \\cdot e) = \\varepsilon(G)-1$ and $\\omega(G \\cdot e) = \\omega(G)$\n",
    "- $T$ tree $\\implies T\\cdot e$ tree\n",
    "\n",
    "**Theorem**: $e$ a link of $G \\implies \\tau(G) = \\tau(G-e) + \\tau(G \\cdot e)$\n",
    "\n",
    "**Theorem**: $\\tau(K_n) = n^{n-2}$"
   ]
  },
  {
   "cell_type": "markdown",
   "metadata": {},
   "source": [
    "###2.5 Minimal spanning tree\n",
    "Can be find greedily by Kruskal's algorithm: at each step pick the cheapest edge without creating a cycle"
   ]
  },
  {
   "cell_type": "markdown",
   "metadata": {},
   "source": [
    "#3 Connectivity"
   ]
  },
  {
   "cell_type": "markdown",
   "metadata": {},
   "source": [
    "###3.1 Connectivity\n",
    "- *vertex cut*: a vertex subset $V'$ s.t. $G \\setminus V'$ is disconnected\n",
    "- *$k$-vertex cut*: a vertex cut using $k$ vertices\n",
    "\n",
    "A complete graph has no vertex cut. \n",
    "- *connectivity*\n",
    "\n",
    "$\\kappa(G) = \\begin{cases} \\text{minimum } k \\text{ s.t. } G \\text{ has a k-vertex cut } & \\text{ if G has at least one pair of non-adjacent vertices} ;\\\\ v-1 & \\text{ otherwise } \\end{cases}$\n",
    "\n",
    "- $k$-connected if $\\kappa(G) \\ge k$\n",
    "\n",
    "- *edge connectivity*\n",
    "\n",
    "$\\kappa'(G) = \\begin{cases} \\text{minimum } k \\text{ s.t. } G \\text{ has a k-edge cut } & \\text{ if G is not trivial} ;\\\\ 0 & \\text{ otherwise } \\end{cases}$\n",
    "\n",
    "- $k$-edge-connected if $\\kappa'(G) \\ge k$\n",
    "\n",
    "**Theorem**: $\\kappa \\le \\kappa' \\le \\delta$."
   ]
  },
  {
   "cell_type": "markdown",
   "metadata": {},
   "source": [
    "###3.2 Blocks\n",
    "\n",
    "- *block*: a connected graph thathas no cut vertices\n",
    "- *block of a graph*: a subgraph that is a block and is maximal wrt this property\n",
    "- every graph is the union of blocks\n",
    "- a family of paths is *internally-disjoint* if no vertex is an internal vertex of more than one path in the family\n",
    "\n",
    "**Theorem**: If $G$ has $\\nu \\ge 3$ then it is $2$-connected $\\iff$ any two vertices are connected by at least 2 internally-disjoint paths.\n",
    "\n",
    "**Corollary**: $G$ $2$-connected $\\implies$ any two vertices of $G$ lie on a common cycle.\n",
    "\n",
    "- edge $e$ is *subdivided* when it is deleted and replaced by a path length 2 connecting its ends, with a new vertex in between\n",
    "- the class of blocks with at least 3 vertices is closed under subdivision\n",
    "\n",
    "**Corollary**: $G$ is a block with $\\nu \\ge 3 \\implies$ any two edges lie on a common cycle.\n",
    "\n",
    "Generalization of above theorem is Menger's: $\\nu \\ge k+1$ and $k$-connected $\\iff$ any two distinct vertices are connected by at least $k$ internally disjoint paths.\n",
    "\n",
    "Similar theorems hold for edge-connectedness: $2$-edge connected $\\iff$ any two vertices are connected by at least two edge-disjoint paths..."
   ]
  },
  {
   "cell_type": "markdown",
   "metadata": {},
   "source": [
    "#4 Euler Tours and Hamilton Cycles"
   ]
  },
  {
   "cell_type": "markdown",
   "metadata": {},
   "source": [
    "###4.1 Euler Tours\n",
    "\n",
    "- *tour*: a closed walk that traverses each edge at least once\n",
    "- *Euler tour*: a tour that traverse each edge exactly once\n",
    "- a graph is *eulerian* if it contains an Euler tour\n",
    "\n",
    "**Theorem**: A nonempty connected is eulerian $\\iff$ all vertices are of even degree.\n",
    "\n",
    "**Corollary**: A connected graph has an Euler trail $\\iff$ it has at most 2 vertices of odd degree."
   ]
  },
  {
   "cell_type": "markdown",
   "metadata": {},
   "source": [
    "###4.2 Hamilton Cycles\n",
    "- *Hamiltonian path*: a path that contains every vertex\n",
    "- *Hamiltonian cycle*: a cycle that contains every vertex\n",
    "- $G$ is *Hamiltonian* if it contains a Hamiltonian cycle\n",
    "\n",
    "**Theorem**: $G$ Hamiltonian $\\implies$ every nonempty propery subset $S$ of $V$ satisfies $\\omega(G-S) \\le |S|$.\n",
    "\n",
    "**Theorem**: Simple graph with $\\nu \\ge 3$ and $\\delta \\ge \\nu/2$ $\\implies$ Hamiltonian."
   ]
  },
  {
   "cell_type": "markdown",
   "metadata": {},
   "source": [
    "###4.3 Chinese Postman Problem"
   ]
  }
 ],
 "metadata": {
  "kernelspec": {
   "display_name": "Python 3",
   "language": "python",
   "name": "python3"
  },
  "language_info": {
   "codemirror_mode": {
    "name": "ipython",
    "version": 3
   },
   "file_extension": ".py",
   "mimetype": "text/x-python",
   "name": "python",
   "nbconvert_exporter": "python",
   "pygments_lexer": "ipython3",
   "version": "3.4.3"
  }
 },
 "nbformat": 4,
 "nbformat_minor": 0
}
