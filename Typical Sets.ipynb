{
 "cells": [
  {
   "cell_type": "code",
   "execution_count": 139,
   "metadata": {
    "collapsed": false
   },
   "outputs": [],
   "source": [
    "%matplotlib inline\n",
    "\n",
    "import matplotlib\n",
    "import numpy as np\n",
    "import matplotlib.pyplot as plt\n",
    "import scipy\n",
    "import seaborn as sns\n",
    "sns.set(color_codes=True)"
   ]
  },
  {
   "cell_type": "code",
   "execution_count": 140,
   "metadata": {
    "collapsed": false
   },
   "outputs": [],
   "source": [
    "n = 1000 # num coin flips\n",
    "e = .1 # epsilon\n",
    "p = 0.9 # heads probability\n",
    "H = -0.9*np.log2(0.9) - 0.1*np.log2(0.1)  # entropy"
   ]
  },
  {
   "cell_type": "code",
   "execution_count": 141,
   "metadata": {
    "collapsed": false
   },
   "outputs": [
    {
     "name": "stdout",
     "output_type": "stream",
     "text": [
      "8.34176712885e-112\n",
      "5.19109442872e-172\n"
     ]
    }
   ],
   "source": [
    "#typical elements have probability in [typ1, typ2]\n",
    "\n",
    "typ2 = 2**(-n*(H-e))\n",
    "print(typ2)\n",
    "\n",
    "typ1 = 2**(-n*(H+e))\n",
    "print(typ1)"
   ]
  },
  {
   "cell_type": "code",
   "execution_count": 142,
   "metadata": {
    "collapsed": false
   },
   "outputs": [
    {
     "name": "stdout",
     "output_type": "stream",
     "text": [
      "1.07890808518e+111\n",
      "1.9263760537e+171\n"
     ]
    }
   ],
   "source": [
    "# typical set has size at least\n",
    "L = (1-e)*2**(n*(H-e))\n",
    "print(L)\n",
    "\n",
    "# and size at most\n",
    "R = 2**(n*(H+e))\n",
    "print(R)"
   ]
  },
  {
   "cell_type": "code",
   "execution_count": 143,
   "metadata": {
    "collapsed": false
   },
   "outputs": [
    {
     "data": {
      "text/plain": [
       "1.9263760537033512e+171"
      ]
     },
     "execution_count": 143,
     "metadata": {},
     "output_type": "execute_result"
    }
   ],
   "source": [
    "R-L"
   ]
  },
  {
   "cell_type": "code",
   "execution_count": 144,
   "metadata": {
    "collapsed": false
   },
   "outputs": [],
   "source": [
    "els = []\n",
    "typical = []\n",
    "probs = []\n",
    "for h in range(n):\n",
    "    prob = (p**h)*(1-p)**(n-h) # probability of of h heads and n-h tails\n",
    "    els.append((h, prob))\n",
    "    probs.append((h, n*5*scipy.special.binom(n,h)*prob))  # scale it by n*5 so that it appears on the same plot\n",
    "    if prob >= typ1 and prob <= typ2:\n",
    "        typical.append((h,n/2.0)) # scale by 1/2 so it shows up below\n",
    "    else:\n",
    "        typical.append((h,0))"
   ]
  },
  {
   "cell_type": "code",
   "execution_count": 145,
   "metadata": {
    "collapsed": false
   },
   "outputs": [
    {
     "data": {
      "text/plain": [
       "[<matplotlib.lines.Line2D at 0x7fbfa2a8b050>,\n",
       " <matplotlib.lines.Line2D at 0x7fbfa2a17890>]"
      ]
     },
     "execution_count": 145,
     "metadata": {},
     "output_type": "execute_result"
    },
    {
     "data": {
      "image/png": "[encoded data removed]",
      "text/plain": [
       "<matplotlib.figure.Figure at 0x7fbfa2b57cd0>"
      ]
     },
     "metadata": {},
     "output_type": "display_data"
    }
   ],
   "source": [
    "plt.plot(els)\n",
    "plt.plot(typical)\n",
    "plt.plot(probs)"
   ]
  },
  {
   "cell_type": "code",
   "execution_count": null,
   "metadata": {
    "collapsed": true
   },
   "outputs": [],
   "source": []
  }
 ],
 "metadata": {
  "kernelspec": {
   "display_name": "Python 2",
   "language": "python",
   "name": "python2"
  },
  "language_info": {
   "codemirror_mode": {
    "name": "ipython",
    "version": 2
   },
   "file_extension": ".py",
   "mimetype": "text/x-python",
   "name": "python",
   "nbconvert_exporter": "python",
   "pygments_lexer": "ipython2",
   "version": "2.7.13"
  }
 },
 "nbformat": 4,
 "nbformat_minor": 2
}
