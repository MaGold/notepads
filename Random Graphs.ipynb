{
 "cells": [
  {
   "cell_type": "code",
   "execution_count": 1,
   "metadata": {
    "collapsed": false,
    "deletable": true,
    "editable": true
   },
   "outputs": [],
   "source": [
    "import numpy as np\n",
    "%matplotlib inline\n",
    "import matplotlib.pyplot as plt\n",
    "import networkx as nx"
   ]
  },
  {
   "cell_type": "markdown",
   "metadata": {
    "deletable": true,
    "editable": true
   },
   "source": [
    "# Connected?"
   ]
  },
  {
   "cell_type": "code",
   "execution_count": 2,
   "metadata": {
    "collapsed": false,
    "deletable": true,
    "editable": true
   },
   "outputs": [],
   "source": [
    "N = 500 # number of vertices\n",
    "TRIALS = 100 # number of networks to average over\n",
    "N_PROBS = 100 # number of probabilities to try\n",
    "connected = np.zeros(N_PROBS) # \n",
    "i = 0\n",
    "probs = np.linspace(0, 5*np.log(N)/N, N_PROBS)\n",
    "for p in probs:\n",
    "    for j in range(TRIALS):\n",
    "        g = nx.fast_gnp_random_graph(N, p)\n",
    "        if len(sorted(nx.connected_components(g), key = len, reverse=True)) == 1:\n",
    "            connected[i] = connected[i] + 1\n",
    "    connected[i] = connected[i]/float(TRIALS)\n",
    "    i = i + 1"
   ]
  },
  {
   "cell_type": "code",
   "execution_count": 46,
   "metadata": {
    "collapsed": false,
    "deletable": true,
    "editable": true
   },
   "outputs": [
    {
     "data": {
      "text/plain": [
       "([<matplotlib.axis.XTick at 0x7f761f000450>,\n",
       "  <matplotlib.axis.XTick at 0x7f761ed05610>,\n",
       "  <matplotlib.axis.XTick at 0x7f761ea48090>],\n",
       " <a list of 3 Text xticklabel objects>)"
      ]
     },
     "execution_count": 46,
     "metadata": {},
     "output_type": "execute_result"
    },
    {
     "data": {
      "image/png": "[encoded data removed]",
      "text/plain": [
       "<matplotlib.figure.Figure at 0x7f761ed0ba10>"
      ]
     },
     "metadata": {},
     "output_type": "display_data"
    }
   ],
   "source": [
    "fig, ax = plt.subplots(1,1)\n",
    "p=ax.plot(probs, connected)\n",
    "plt.xlabel('p')\n",
    "plt.ylabel('Proportion of networks that are connected, out of 100 trials.')\n",
    "\n",
    "plt.xticks([np.log(N)/N, probs[len(probs)/2], probs[-1]], ['log(N)/N', str(probs[len(probs)/2])[:4], str(probs[-1])[:4]], rotation='vertical')"
   ]
  },
  {
   "cell_type": "markdown",
   "metadata": {
    "deletable": true,
    "editable": true
   },
   "source": [
    "# Giant Component"
   ]
  },
  {
   "cell_type": "code",
   "execution_count": 12,
   "metadata": {
    "collapsed": false,
    "deletable": true,
    "editable": true
   },
   "outputs": [],
   "source": [
    "n=5000\n",
    "g_comp = np.zeros(100)\n",
    "i = 0\n",
    "probs = np.linspace(0, 1.1/n, 100)\n",
    "for p in probs:\n",
    "    g = nx.fast_gnp_random_graph(n, p)\n",
    "    g_comp[i] = len(sorted(nx.connected_components(g), key = len, reverse=True)[0])\n",
    "    i = i + 1"
   ]
  },
  {
   "cell_type": "code",
   "execution_count": 14,
   "metadata": {
    "collapsed": false,
    "deletable": true,
    "editable": true,
    "scrolled": true
   },
   "outputs": [
    {
     "data": {
      "text/plain": [
       "([<matplotlib.axis.YTick at 0x7febfae543d0>,\n",
       "  <matplotlib.axis.YTick at 0x7febfb6093d0>,\n",
       "  <matplotlib.axis.YTick at 0x7febfaa140d0>],\n",
       " <a list of 3 Text yticklabel objects>)"
      ]
     },
     "execution_count": 14,
     "metadata": {},
     "output_type": "execute_result"
    },
    {
     "data": {
      "image/png": "[encoded data removed]",
      "text/plain": [
       "<matplotlib.figure.Figure at 0x7febfaa2db10>"
      ]
     },
     "metadata": {},
     "output_type": "display_data"
    }
   ],
   "source": [
    "fig, ax = plt.subplots(1,1)\n",
    "p=ax.plot(probs, g_comp)\n",
    "\n",
    "plt.xlabel('p')\n",
    "plt.ylabel('Size of largest component')\n",
    "\n",
    "\n",
    "x = plt.xticks()[0] + [1.0/n]\n",
    "\n",
    "y = plt.xticks()[0] + [1.0/n]\n",
    "\n",
    "#plt.xticks([1.0/n, 2.0/n, 3.0/n, 4.0/n, 0.001, 0.0015, probs[-1]], ['1/n', '2/n', '3/n', '4/n', 0.001, 0.0015, str(probs[-1])], rotation='vertical')\n",
    "plt.xticks([1.0/n, 1.1/n], ['1/n', '1.1/n'], rotation='vertical')\n",
    "plt.yticks([np.log(n), n/2.0, n], ['log(n)', 'n/2', 'n'], rotation='vertical')\n",
    "\n",
    "#xt = ax.get_xticks() \n",
    "#xt=np.append(xt,1.0/n)\n",
    "#xtl=xt.tolist()\n",
    "#xtl[-1]=\"1/n\"\n",
    "#ax.set_xticks(xt)\n",
    "#ax.set_xticklabels(xtl)"
   ]
  },
  {
   "cell_type": "code",
   "execution_count": null,
   "metadata": {
    "collapsed": true,
    "deletable": true,
    "editable": true
   },
   "outputs": [],
   "source": []
  }
 ],
 "metadata": {
  "kernelspec": {
   "display_name": "Python 2",
   "language": "python",
   "name": "python2"
  },
  "language_info": {
   "codemirror_mode": {
    "name": "ipython",
    "version": 2
   },
   "file_extension": ".py",
   "mimetype": "text/x-python",
   "name": "python",
   "nbconvert_exporter": "python",
   "pygments_lexer": "ipython2",
   "version": "2.7.11"
  }
 },
 "nbformat": 4,
 "nbformat_minor": 0
}
