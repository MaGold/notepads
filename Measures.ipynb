{
 "cells": [
  {
   "cell_type": "markdown",
   "metadata": {},
   "source": [
    "##S 1.4"
   ]
  },
  {
   "cell_type": "markdown",
   "metadata": {},
   "source": [
    "###Definition:\n",
    "A set $O$ of real numbers is **open** if for every $x \\in O$, there exists an $r >0$ such that the interval $(x-r, x+r)$ is contained in $O$.\n",
    "\n",
    "###Facts:\n",
    "$\\mathbf{R}$ and $\\emptyset$ are open.\n",
    "\n",
    "The intersection of any finite collection of open sets is open.\n",
    "\n",
    "The union of any collection of open sets is open.\n",
    "\n",
    "It is not the case that the intersection of any collection of open sets is open ($\\cap_n (-1/n, 1/n) = \\{0\\}$).\n",
    "\n",
    "Every (nonempty) open set is the disjoint unioon of a countable collection of open intervals."
   ]
  },
  {
   "cell_type": "markdown",
   "metadata": {},
   "source": [
    "###Definition:\n",
    "For a set $E \\subseteq \\mathbf{R}$, $x$ is a **point of closure** of $E$ if every open interval that contains $x$ also contains a point in $E$.\n",
    "\n",
    "The collection of points of closure of $E$ is called the **closure** of $E$, denoted by $\\overline{E}$.\n",
    "\n",
    "If $\\overline{E} = E$ then $E$ is **closed**.\n",
    "\n",
    "###Facts:\n",
    "$E \\subseteq \\overline{E}$.\n",
    "\n",
    "$\\overline{E}$ is closed.\n",
    "\n",
    "$\\overline{E}$ is the smallest closed set that contains $E$, i.e. if $F$ is closed and $E\\subseteq F$, then $\\overline{E} \\subseteq F$.\n",
    "\n",
    "$E \\subseteq \\mathbf{R}$ open $\\iff$ $R \\setminus E$ closed.\n",
    "\n",
    "$\\mathbf{R}$ and $\\emptyset$ closed.\n",
    "\n",
    "The union of any finite collection of closed sets is closed.\n",
    "\n",
    "The intersection of any collection of closed sets is closed."
   ]
  },
  {
   "cell_type": "markdown",
   "metadata": {},
   "source": [
    "###Definition:\n",
    "A collection of sets $\\{E_{\\lambda}\\}$ is a **cover** of $E$ if $E \\subseteq \\cup \\{E_{\\lambda}\\}$. A **subcover** of $E$ is a subcollection of the cover that also covers $E$. If each $E_{\\lambda}$ is open then $\\{E_{\\lambda}\\}$ is an **open cover**. If the cover contains a finite number of sets then it is a **finite cover**.\n",
    "\n",
    "###Heine-Borel Theorem:\n",
    "If $F \\subseteq \\mathbf{R}$ is closed and bounded, then every open cover of $F$ has a finite subcover."
   ]
  },
  {
   "cell_type": "code",
   "execution_count": null,
   "metadata": {
    "collapsed": true
   },
   "outputs": [],
   "source": []
  },
  {
   "cell_type": "markdown",
   "metadata": {},
   "source": [
    "#2.2 Lebesgue outer measure"
   ]
  },
  {
   "cell_type": "markdown",
   "metadata": {},
   "source": [
    "**outer measure**: For a set $A$, we consider countable collections of open, bounded intervals that cover $A$: $$m^*(A) = \\inf \\{\\sum_{k=1}^{\\infty} l(I_k) | A \\subseteq \\cup_{k=1}^{\\infty} I_k \\}$$\n",
    "\n",
    "###Facts:\n",
    "1) If $A \\subseteq B$ then $m^*(A) \\le m^*(B)$, i.e. outer measure is **monotone**.\n",
    "\n",
    "2) Countable sets have outer measure $0$.\n",
    "\n",
    "3) The outer measure of an interval is its length.\n",
    "\n",
    "4) Outer measure is translation invariant: $\\forall$ sets $A$ and numbers $y$, we have $m^*(A+y) = m^*(A)$.\n",
    "\n",
    "5) Outer measure is **countable subadditive**: for every countable collection of sets $\\{E_1, e_2, \\ldots\\}$ (not necessarily disjoint) we have \n",
    "\n",
    "$$m^*(\\cup_{k=1}^{\\infty} E_k) \\le \\sum_{k=1}^{\\infty} m^*(E_k).$$\n",
    "\n",
    "We *really* would like to have countable additivity, equality above. Unfortunately, it is not even finitely additive; there are disjoint sets $A,B$ such that \n",
    "\n",
    "$$ m^*(A \\cup B) < m^*(A) + m^*(B). $$"
   ]
  },
  {
   "cell_type": "markdown",
   "metadata": {},
   "source": [
    "###2.3 Lebesgue measurable sets\n",
    "A set $E$ is **measurable** if for all sets $A$ we have \n",
    "\n",
    "$$ m^*(A \\cap E) + m^*(A \\cap E^C) = m^*(A).$$\n",
    "\n",
    "Now if $A$ is measurable and $A \\cap B = \\emptyset$, then \n",
    "\n",
    "$$m^*(A \\cup B) = m^*([A \\cup B] \\cap A) + m^*([A \\cup B] \\cap A^C) = m^*(A) + m^*(B),$$\n",
    "\n",
    "so the problem seems remedied.\n",
    "\n",
    "###Facts:\n",
    "4) Any set of outer measure zero is measurable. Any countable set is measurable.\n",
    "\n",
    "5) The union of a finite collection of measurable sets is measurable.\n",
    "\n",
    "6) Let $A$ be any set and $\\{E_k\\}_1^n$ a finite collection of measurable sets. Then $$m^*(A \\cap [\\cup^n_{k=1} E_k]) = \\sum^n_{k=1} m^*(A \\cap E_k);$$ in particular $$m^*(\\cup^n_{k=1} E_k) = \\sum^n_{k=1} m^*(E_k). $$\n",
    "\n",
    "The union of a countable collection of measurable sets is measurable."
   ]
  },
  {
   "cell_type": "markdown",
   "metadata": {},
   "source": [
    "###Definition:\n",
    "A collection $A$ of subsets of $X$ is a **$\\sigma$-algebra** (of subsets of $X$) if\n",
    "\n",
    "- $\\emptyset \\in A$;\n",
    "\n",
    "- if $E \\in A$ then $X \\setminus E \\in A$;\n",
    "\n",
    "- the union of a countable collection of sets in $A$ is also in $A$.\n",
    "\n",
    "A collection of subsets of $\\mathbf{R}$ is an **algebra** if it contains $\\mathbf{R}$ and is closed with respect to the formation of complements and finite unions. By De Morgan, such a collection is also closed with respect to finite intersections. \n",
    "\n",
    "Let $A$ be the collection of measurable sets. Using 5), $A$ is an algebra."
   ]
  },
  {
   "cell_type": "markdown",
   "metadata": {},
   "source": [
    "7) The union of a countable collection of measurable sets is measurable.\n",
    "\n",
    "The collection of a measurable sets is a $\\sigma$-algebra.\n",
    "\n",
    "8) Every interval is measurable.\n",
    "\n",
    "Facts 7), 8) & the fact that every open set is the disjoint union of a countable set of open intervals $\\rightarrow$ every open set is measurable."
   ]
  },
  {
   "cell_type": "markdown",
   "metadata": {},
   "source": [
    "###Definition:\n",
    "A set of real numbers ia **$G_{\\delta}$ set** if it is the *intersection* of a countable collection of *open* sets.\n",
    "\n",
    "A set of real numbers ia **$F_{\\sigma}$ set** if it is the *union* of a countable collection of *closed* sets.\n",
    "\n",
    "By 7), every $G_{\\delta}$ and $F_{\\sigma}$ set is measurable.\n"
   ]
  },
  {
   "cell_type": "markdown",
   "metadata": {},
   "source": [
    "The intersection of all the $\\sigma$-algebras of subsets of $\\mathbf{R}$ that contain the open sets is a $\\sigma$-algebra call the **Borel $\\sigma$-algebra**. (It is the smallest $\\sigma$-algebra containing all the open sets).\n",
    "\n",
    "Every Borel set is measurable.\n",
    "\n",
    "###Theorem:\n",
    "The collection of measurable sets is a $\\sigma$-algebra that contains the $\\sigma$-algebra of Borel sets. Each interval, each open set, each $G_{\\delta}$ set, and each $F_{\\sigma}$ set is measurable.\n",
    "\n",
    "The translation of a measurable set is measurable."
   ]
  }
 ],
 "metadata": {
  "kernelspec": {
   "display_name": "Python 3",
   "language": "python",
   "name": "python3"
  },
  "language_info": {
   "codemirror_mode": {
    "name": "ipython",
    "version": 3
   },
   "file_extension": ".py",
   "mimetype": "text/x-python",
   "name": "python",
   "nbconvert_exporter": "python",
   "pygments_lexer": "ipython3",
   "version": "3.4.3"
  }
 },
 "nbformat": 4,
 "nbformat_minor": 0
}
