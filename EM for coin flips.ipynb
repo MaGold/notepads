{
 "cells": [
  {
   "cell_type": "code",
   "execution_count": 4,
   "metadata": {
    "collapsed": true
   },
   "outputs": [],
   "source": [
    "%matplotlib inline\n",
    "import scipy\n",
    "import matplotlib\n",
    "import numpy as np\n",
    "import matplotlib.pyplot as plt\n",
    "\n",
    "import seaborn as sns\n",
    "sns.set(color_codes=True)"
   ]
  },
  {
   "cell_type": "markdown",
   "metadata": {},
   "source": [
    "Two coins: A, B\n",
    "- A: p(H) = 0.8\n",
    "- B: p(H) = 0.45\n",
    "\n",
    "5 experiments of 10 flips, but we don't know which coin was used:\n",
    "- HTTTHHTHTH (B)\n",
    "- HHHHTHHHHH (A)\n",
    "- HTHHHHHTHH (A)\n",
    "- HTHTTTHHTT (B)\n",
    "- THHHTHHHTH (A)"
   ]
  },
  {
   "cell_type": "code",
   "execution_count": 5,
   "metadata": {
    "collapsed": false
   },
   "outputs": [],
   "source": [
    "X = np.array([[0, 1, 1, 1, 0, 0, 1, 0, 1, 0], \n",
    "[0, 0, 0, 0, 1, 0, 0, 0, 0, 0], \n",
    "[0, 1, 0, 0, 0, 0, 0, 1, 0, 0], \n",
    "[0, 1, 0, 1, 1, 1, 0, 0, 1, 1], \n",
    "[1, 0, 0, 0, 1, 0, 0, 0, 1, 0]])"
   ]
  },
  {
   "cell_type": "code",
   "execution_count": 32,
   "metadata": {
    "collapsed": true
   },
   "outputs": [],
   "source": [
    "#parameters to learn:\n",
    "pA = 0.6\n",
    "pB = 0.5"
   ]
  },
  {
   "cell_type": "code",
   "execution_count": 38,
   "metadata": {
    "collapsed": true
   },
   "outputs": [],
   "source": [
    "r = np.zeros((X.shape[0], 2))"
   ]
  },
  {
   "cell_type": "code",
   "execution_count": 41,
   "metadata": {
    "collapsed": false
   },
   "outputs": [
    {
     "name": "stdout",
     "output_type": "stream",
     "text": [
      "[[ 0.44914893  0.55085107]\n",
      " [ 0.80498552  0.19501448]\n",
      " [ 0.73346716  0.26653284]\n",
      " [ 0.35215613  0.64784387]\n",
      " [ 0.64721512  0.35278488]]\n",
      "[ 2.98697285  2.01302715]\n",
      "[[ 0.44914893  0.55085107]\n",
      " [ 0.80498552  0.19501448]\n",
      " [ 0.73346716  0.26653284]\n",
      " [ 0.35215613  0.64784387]\n",
      " [ 0.64721512  0.35278488]]\n",
      "[ 2.98697285  2.01302715]\n",
      "[[ 0.44914893  0.55085107]\n",
      " [ 0.80498552  0.19501448]\n",
      " [ 0.73346716  0.26653284]\n",
      " [ 0.35215613  0.64784387]\n",
      " [ 0.64721512  0.35278488]]\n",
      "[ 2.98697285  2.01302715]\n",
      "[[ 0.44914893  0.55085107]\n",
      " [ 0.80498552  0.19501448]\n",
      " [ 0.73346716  0.26653284]\n",
      " [ 0.35215613  0.64784387]\n",
      " [ 0.64721512  0.35278488]]\n",
      "[ 2.98697285  2.01302715]\n",
      "[[ 0.44914893  0.55085107]\n",
      " [ 0.80498552  0.19501448]\n",
      " [ 0.73346716  0.26653284]\n",
      " [ 0.35215613  0.64784387]\n",
      " [ 0.64721512  0.35278488]]\n",
      "[ 2.98697285  2.01302715]\n"
     ]
    }
   ],
   "source": [
    "for t in range(5):\n",
    "    # E step\n",
    "    for i in range(X.shape[0]):\n",
    "        #for k in range(2):\n",
    "        # calc probability of coin flips i using coin k\n",
    "        num_tails = np.sum(X[i,:])\n",
    "        num_heads = X.shape[1] - num_tails\n",
    "        r[i,0] = scipy.special.binom(X.shape[1], num_heads) * (pA**num_heads) * ((1-pA)**(num_tails))\n",
    "        r[i,1] = scipy.special.binom(X.shape[1], num_heads) * (pB**num_heads) * ((1-pB)**(num_tails))\n",
    "    # renormalize\n",
    "    #print(r)\n",
    "    z = np.sum(r, axis=1)\n",
    "    #print(z)\n",
    "    r[:,0] = r[:, 0] / z\n",
    "    r[:,1] = r[:, 1] / z\n",
    "    print(r)\n",
    "    print(np.sum(r, axis=0))\n",
    "    coinA = \n",
    "    # M step\n",
    "    pA = pA"
   ]
  },
  {
   "cell_type": "code",
   "execution_count": 46,
   "metadata": {
    "collapsed": false
   },
   "outputs": [
    {
     "data": {
      "text/plain": [
       "21.24"
      ]
     },
     "execution_count": 46,
     "metadata": {},
     "output_type": "execute_result"
    }
   ],
   "source": [
    ".45*5 + .8*9 + 0.73*8 + .35*4 + .65*7 "
   ]
  },
  {
   "cell_type": "code",
   "execution_count": 44,
   "metadata": {
    "collapsed": false,
    "scrolled": true
   },
   "outputs": [
    {
     "data": {
      "text/plain": [
       "29.68"
      ]
     },
     "execution_count": 44,
     "metadata": {},
     "output_type": "execute_result"
    }
   ],
   "source": [
    "(.45*5+(1-.45)*5) + (.8*9 + (1-.8)*1) + (0.73*8 + (1-.73)*2) + (.35*4 + (1-.35)*6) + (.65*7 + (1-.65)*3)"
   ]
  },
  {
   "cell_type": "code",
   "execution_count": 47,
   "metadata": {
    "collapsed": false
   },
   "outputs": [
    {
     "data": {
      "text/plain": [
       "0.715633423180593"
      ]
     },
     "execution_count": 47,
     "metadata": {},
     "output_type": "execute_result"
    }
   ],
   "source": [
    "21.24/29.68"
   ]
  }
 ],
 "metadata": {
  "kernelspec": {
   "display_name": "Python 3",
   "language": "python",
   "name": "python3"
  },
  "language_info": {
   "codemirror_mode": {
    "name": "ipython",
    "version": 3
   },
   "file_extension": ".py",
   "mimetype": "text/x-python",
   "name": "python",
   "nbconvert_exporter": "python",
   "pygments_lexer": "ipython3",
   "version": "3.4.3"
  }
 },
 "nbformat": 4,
 "nbformat_minor": 0
}
