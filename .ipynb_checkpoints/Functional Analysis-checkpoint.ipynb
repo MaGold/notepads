{
 "cells": [
  {
   "cell_type": "markdown",
   "metadata": {},
   "source": [
    "#1 Metric Spaces\n",
    "- $\\mathbf{R}^n$ and $\\mathbf{C}^n$. Metric: $d(x,y) = \\left(\\sum_{j=1}^n |\\xi_i - \\nu_i|^n \\right)^{1/n}$.\n",
    "\n",
    "- $\\mathbf{l}^p$: Set of infinite sequences $x = \\xi_1, \\xi2, \\ldots$ s.t. $\\sum_{i=1}^\\infty |\\xi_i|^p$ converges. Metric: $d(x,y) = \\left(\\sum_{j=1}^\\infty |\\xi_i - \\nu_i|^p \\right)^{1/p}$.\n",
    "\n",
    "- $\\mathbf{l}^\\infty$: Set of bounded sequences in $\\mathbf{C}$. i.e. $\\{(\\xi_1, \\xi2, \\ldots) : |\\xi_i| \\le c\\}$. Metric: $d(x,y) = \\sup_{j \\in \\mathbf{N}} |\\xi_i - \\nu_i|$.\n",
    "\n",
    "- $C[a,b]$: Set of real-valued continuous functions $[a,b] \\to \\mathbf{R}$. Metric: $d(x,y) = \\max_{t \\in [a,b]} |x(t)-y(t)|$ (note: $x,y$ are functions)\n",
    "\n",
    "- Discrete metric space on any set $X$. Metric: $d(x,x) = 0$ and $d(x,y)=1$ if $x \\ne y$.\n",
    "\n",
    "- $\\mathbf{s}$: Set of all infinite sequences in $\\mathbf{C}$. Metric: $d(x,y) = \\sum \\frac{1}{2^j} \\frac{|\\xi_j - \\nu_j|}{1+|\\xi_j - \\nu_j|}$"
   ]
  },
  {
   "cell_type": "markdown",
   "metadata": {},
   "source": [
    "All of the above are **complete**; all Cauchy sequences converge to a point in the space.\n",
    "\n",
    "Some incomplete spaces are:\n",
    "- Rationals with $d(x,y)=|x-y|$; \n",
    "- $C[0,1]$ with $d(x,y)=\\int_0^1 |x(t)-y(t)|dt$."
   ]
  },
  {
   "cell_type": "markdown",
   "metadata": {},
   "source": [
    "###Completion of metric spaces\n",
    "\n",
    "Let $X=(X,d)$ and $\\widetilde{X} = (\\widetilde{X}, \\widetilde{d})$ be metric spaces.\n",
    "- A mapping $T: X \\to \\widetilde{X}$ is an **isomety** if for all $x,y \\in X$ we have $\\widetilde{d}(Tx, Ty) = d(x,y)$.\n",
    "- $X$ and $\\widetilde{X}$ are **isometric** if there exists a  bijective isometry between them.\n",
    "\n",
    "**Theorem**: <font color='A61927'>Let $(X,d)$ be a metric space. There exists a unique complete metric space $(\\widetilde{X}, \\widetilde{d})$ with a subspace $W$ such that\n",
    "- $W$ is isometric to $X$;\n",
    "- $W$ is dense in $\\widetilde{X}$.\n",
    "</font>"
   ]
  },
  {
   "cell_type": "markdown",
   "metadata": {},
   "source": [
    "- A subset $M$ of a metric space $X$ is **dense** in $X$ if $\\overline{M} = X$.\n",
    "- $X$ is separable if it has a countable subset that is dense in $X$.     \n",
    "\n",
    "Examples\n",
    "- $\\mathbf{R}$ is separable because of $\\mathbf{Q}$.\n",
    "- $\\mathbf{C}$ is separable, similarly.\n",
    "- A discrete metric space is separable $\\iff$ $X$ is countable.\n",
    "- $\\mathbf{l}^{p}$ is separable.\n",
    "- $\\mathbf{l}^{\\infty}$ is **not** separable."
   ]
  },
  {
   "cell_type": "markdown",
   "metadata": {},
   "source": [
    "**Theorem**: <font color='A61927'>Let $M$ be a subspace of a metric space $X$. Then $M$ is complete $\\iff$ $M$ is closed in $X$.</font>"
   ]
  },
  {
   "cell_type": "markdown",
   "metadata": {},
   "source": [
    "#2 Normed spaces and Banach spaces"
   ]
  },
  {
   "cell_type": "markdown",
   "metadata": {},
   "source": [
    "###2.1 Vector spaces\n",
    "\n",
    "###2.2 Normed space, Banach space\n",
    "A **norm** $||\\cdot||$ on a vector space $X$ is a real-valued function on $X$ such that for all $x,y \\in X$ and scalars $\\alpha$:\n",
    "- $||x|| \\ge 0$;\n",
    "- $||x|| = 0 \\iff x=0$;\n",
    "- $||\\alpha x|| = |\\alpha| ||x||$;\n",
    "- $||x+y|| \\le ||x|| + ||y||$.\n",
    "\n",
    "A **normed space** is a vector space with a norm defined on it.\n",
    "\n",
    "A norm on $X$ induces a metric $d$ by $d(x,y) = ||x-y||$.\n",
    "\n",
    "A **Banach space** is a normed space that is complete wrt its induced metric.\n",
    "\n",
    "Norm is continuous; i.e. the mapping $x \\to ||x||$ is a continuous mapping from $X$ to $\\mathbf{R}$."
   ]
  },
  {
   "cell_type": "markdown",
   "metadata": {},
   "source": [
    "- $\\mathbf{R}^n$ and $\\mathbf{C}^n$ are Banach spaces with norm $||x|| = \\left(\\sum_{j=1}^n |\\xi_j|^2 \\right)^{1/2}$.\n",
    "- $\\mathbf{l}^p$ is a Banach space with norm $||x|| = \\left(\\sum_{j=1}^\\infty |\\xi_j|^p \\right)^{1/p}$. The induced metric is thus $d(x,y) = ||x-y|| = \\left(\\sum_{j=1}^\\infty |\\xi_j - \\eta_j|^p \\right)^{1/p}$.\n",
    "- $\\mathbf{l}^\\infty$ is a Banach space with norm $||x|| = \\sup_j |\\xi_j|$.\n",
    "\n",
    "- $L^2[a,b]$: the vector space of all continuous real-valued functions $[a,b]$ with norm $||x|| = \\left(\\int_b^a x(t)^2dt\\right)^{1/2}$ is **not complete**"
   ]
  },
  {
   "cell_type": "markdown",
   "metadata": {},
   "source": [
    "Not every metric space on a vector space is obtained from a norm:\n",
    "\n",
    "A metric $d$ induced by a norm on a normed space $X$ must satisfy the following for all $x,y,z \\in X$ and scalar $\\alpha$:\n",
    "- $d(x+z, y+z) = d(x,y)$;\n",
    "- $d(\\alpha x, \\alpha y) = |\\alpha| d(x,y)$.\n",
    "\n",
    "The sequence space $\\mathbf{s}$ with metric $d(x,y) = \\sum \\frac{1}{2^j} \\frac{|\\xi_j - \\nu_j|}{1+|\\xi_j - \\nu_j|}$ is not obtained from a norm (not scale invariant)."
   ]
  },
  {
   "cell_type": "markdown",
   "metadata": {},
   "source": [
    "###2.3 Properties of normed spaces (series and basis)\n",
    "\n",
    "**Theorem**: <font color='A61927'>Let $Y$ be a subspace of a Banach space $X$. Then $Y$ is complete $\\iff$ $Y$ is closed in $X$.</font>\n",
    "\n",
    "Let $(x_n)$ be a sequence in a normed space $X$. Let $s_n = \\sum^n_{i=1} x_i$. The sequences of partial sums $(s_n)$ is **convergent** if $||s_n -s|| \\to 0$ for some $s \\in X$, then the sum of the series is $s$. If $\\sum ||x_n||$ converges then the series $\\sum x_i$ is **absolutely convergent**.\n",
    "\n",
    "If there exists a sequence $(e_n)$ such that for every $x \\in X$ there exists a unique sequence of scalars $(\\alpha_n)$ for which $\\lim_{n \\to \\infty} || x - (\\alpha_1e_1 + \\cdots + \\alpha_ne_n)|| = 0$, then $(e_n)$ is a **basis** for $X$.\n",
    "\n",
    "- If a normed space has a basis, then it is separable.\n",
    "- not every seperable Banach space has a basis.\n",
    "\n",
    "**Theorem**: <font color='A61927'>Let $(X, || \\cdot ||)$ be a normed space. Then there is a Banach space $\\hat{X}$ and an isometry $A:X \\to W$ where $W \\subseteq \\hat{X}$ is dense in $\\hat{X}$. $\\hat{X}$ is unique up to isometry.</font>"
   ]
  },
  {
   "cell_type": "markdown",
   "metadata": {},
   "source": [
    "###2.4 Finite dimensional normed spaces\n",
    "\n",
    "**Lemma**: Let $\\{x_1, \\ldots, x_n\\}$ be linearly independent in normed space $X$. Then $\\exists \\; c>0$ s.t. for all scalars $\\alpha_1, \\ldots, \\alpha_n$ we have $|| \\alpha_1x_1 + \\cdots + \\alpha_nx_n|| \\ge c(|\\alpha_1| + \\cdots \\alpha_n|)$.\n",
    "\n",
    "**Theorem**: <font color='A61927'>$Y$ finite dimensional subspace of a complete normed space $\\implies$ $Y$ is complete. ($\\implies$ every finite dimensional normed space is complete).</font>\n",
    "\n",
    "**Theorem**: <font color='A61927'>Every finite dimensional subspace of a normed space $X$ is closed in $X$.</font>\n",
    "\n",
    "- Not true for the infinite case: span of $\\{0, t, t^2, t^3, \\ldots\\}$ in $C[0,1]$ does not contain $e^t$, but there is a sequence of polynomials that converge to it.\n",
    "\n",
    "Norms $||\\cdot||$ and $||\\cdot||_0$ on $X$ are *equivalent* if $\\exists\\; a,b>0$ s.t. $a ||x||_0 \\le ||x|| \\le b||x||_0$ for all $x \\in X$.\n",
    "\n",
    "- $(X, ||\\cdot||)$ and $(X, ||\\cdot||_0)$ have the same Cauchy sequences if the norms are equivalent.\n",
    "\n",
    "**Theorem**: <font color='A61927'>All norms are equivalent on a finite dimensional vector space.</font>"
   ]
  },
  {
   "cell_type": "markdown",
   "metadata": {},
   "source": [
    "###2.5 Compactness and finite dimension\n",
    "\n",
    "A metric space is *compact* if every sequence has a convergent subsequence.\n",
    "\n",
    "**Lemma**: A compact subset of a metric space is closed and bounded.\n",
    "\n",
    "Converse does not hold: Consider subset of $\\mathbf{l}^2$ given by $\\{e_1, e_2, \\ldots\\}$, where $e_1 = (1,0,0,\\ldots)$, etc... It is bounded since each element has norm 1, and it is trivially closed since it has no accumulation points, but the sequence $e_1, e_2, \\ldots$ has no convergent subsequence.\n",
    "\n",
    "**Theorem**: <font color='A61927'>Let $X$ be a finite dimensional normed space and $M$ a subset of $X$. Then $M$ is compact $\\iff$ $M$ is closed and bounded.</font>\n",
    "\n",
    "**Risz's Lemma**: Let $X$ be a normed space and $Y\\subset Z \\subseteq X$, where $Y$ is closed. Then for all $y \\in Y$ and $\\theta \\in (0,1)$ there exists a $z \\in Z$ such that $||z||=1$ and $||z-y|| \\ge \\theta$.\n",
    "\n",
    "**Theorem**: <font color='A61927'>If the closed unit ball $\\{x : ||x|| \\le 1\\}$ is compact in a normed space $X$, then $X$ is of finite dimension.</font>\n",
    "\n",
    "**Theorem**: <font color='A61927'>If the mapping $T:X \\to Y$ between metric spaces is continuous, then the image of a compact subset under $T$ is also compact.</font>\n",
    "\n",
    "**Corollary**: A continuous mapping of a compact subset $M$ of a metric space into $\\mathbf{R}$ assumes a maximum and a minimum  at some points of $M$."
   ]
  },
  {
   "cell_type": "markdown",
   "metadata": {},
   "source": [
    "###2.6 Linear Operators\n",
    "\n",
    "$T$ is a **linear operator** if \n",
    "- its domain $D(T)$ and range $R(T)$ are vector spaces over the same field ;\n",
    "- for all $x,y \\in D(T)$ and scalars $\\alpha$ we have $T(x+y)=Tx+Ty$ and $T(\\alpha x)=\\alpha Tx$.\n",
    "\n",
    "Second properties imply $T(\\alpha x + \\beta y) = \\alpha Tx + \\beta T y$ and $T0=0$.\n",
    "\n",
    "**Theorem**: <font color='A61927'>Let $T$ be a linear operator. Then\n",
    "- the range $R(T)$ is a vector space;\n",
    "- $\\dim D(T) =n < \\infty \\implies \\dim R(T) \\le n$;\n",
    "- null space of $T$ is a vector space.</font>\n",
    "\n",
    "**Theorem**: <font color='A61927'>$X,Y$ vector spaces over same field. $T: D(T) \\subseteq X \\to Y$ linear operator. Then\n",
    "- $T^{-1}: R(T) \\to D(T)$ exists $\\iff$ $Tx=0$ implies $x=0$;\n",
    "- If $T^{-1}$ exists then it is a linear operator;\n",
    "- If $D(T)$ is finite dimensional and $T^{-1}$ exists then $\\dim D(T) = \\dim R(T)$.</font>\n",
    "\n",
    "**Lemma**: $T:X \\to Y$ and $S:Y \\to Z$ bijective linear operators $\\implies (ST)^{-1}$ exists and $(ST)^{-1} = T^{-1}S^{-1}$."
   ]
  },
  {
   "cell_type": "markdown",
   "metadata": {},
   "source": [
    "###2.7 Bounded and Continuous Linear Operators\n",
    "\n",
    "Let $X,Y$ be normed vector spaces and $T:D(T) \\subseteq X \\to Y$ a linear operator. \n",
    "- $T$ is **bounded** if $\\exists c>0$ s.t. for all $x \\in D(T)$, we have $||Tx|| \\le c||x||$.\n",
    "\n",
    "These are called bounded because if $M$ is a bounded set (all vectors have norm less than constant) then the same goes for $T(M)$.\n",
    "\n",
    "- the **norm** of $T$ is $||T|| = \\sup_{x \\in D(T), x \\ne 0} \\frac{||Tx||}{||x||}$;\n",
    "- $||Tx|| \\le ||T|| \\; ||x||$;\n",
    "\n",
    "**Lemma**: Let $T$ be a bounded linear operator:\n",
    "- $||T|| = \\sup_{x \\in D(T), ||x|| =1} ||Tx||$;\n",
    "- the norm of $T$ as just defined actually is a norm.\n",
    "\n",
    "**Theorem**: <font color='A61927'>If $X$ is a finite dimensional normed space then every linear operator on $X$ is bounded.</font>\n",
    "\n",
    "**Theorem**: <font color='A61927'>Let $T$ be a linear operator over normed spaces. Then\n",
    "- $T$ continuous $\\iff$ $T$ bounded;\n",
    "- $T$ continuous at a single point $\\implies$ $T$ is continuous.</font>\n",
    "\n",
    "**Corollary**: $T$ bounded linear operator $\\implies$\n",
    "- $x_n \\to x \\implies Tx_n \\to Tx$;\n",
    "- null space of $T$ is closed.\n",
    "\n",
    "If $T_1, T_2$ bounded then $||T_1 T_2|| \\le ||T_1|| \\; ||T_2||$.\n",
    "\n",
    "**Theorem**: <font color='A61927'>$T: D(T) \\to Y$ bounded linear operator where $D(T)$ is a subset of a normed space and $Y$ is a Banach space. $T$ has an extension $\\hat{T} : \\overline{D(T)} \\to Y$ s.t. $\\hat{T}$ is a bounded linear operator and $||\\hat{T}|| = ||T||$.</font>\n"
   ]
  },
  {
   "cell_type": "markdown",
   "metadata": {},
   "source": [
    "###2.8 Linear Functionals\n",
    "\n",
    "- *linear functional*: a linear operator with domain in a vector space $X$ and range in the scalard field of $X$\n",
    "- *bounded linear functional*: a bounded linear operator that is a linear functional\n",
    "\n",
    "**Theorem**: <font color='A61927'>A linear functional with domain in a normed space is continuous $\\iff$ it is bounded.</font>\n",
    "\n",
    "Examples: \n",
    "- the norm $|| \\cdot||: X \\to \\mathbf{R}$ is a functional, but is **not** linear.\n",
    "- dot product with one vector fixed: $f_a: \\mathbf{R}^n \\to \\mathbf{R}$ where $f(x) = x \\cdot a$. It's linear and bounded. $(||f|| = ||a||)$\n",
    "- In $C[a,b]$ define $f(x) = \\int_a^b x(t)dt$ for $x \\in C[a,b]$. This is linear and bounded ($||f|| = b-a||$)\n",
    "- In $C[a,b]$ fix $t_0 \\in [a,b]$ and define $f(x) = x(t_0)$. Linear and bounded with norm $1$.\n",
    "- In $\\mathbf{l}^2$ fix $a = (\\alpha_j)$ and define $f(x) = \\sum_{j=1}^{\\infty} \\xi_j \\alpha_j$. Linear and bounded. $|f(x)| = |\\sum \\xi_j \\alpha_j| \\le \\sum |\\xi_j \\alpha_j| \\le \\sqrt{\\sum |\\xi_j|^2} \\sqrt{\\sum |\\alpha_j|^2} = ||x||\\; ||a||$.\n",
    "\n",
    "####Duals\n",
    "- $X^*$: the vector space consisting of all linear functionals on $X$. Called the **algebraic dual space** of $X$.\n",
    "- $X^{**}$: the vector space consisting of all linear functionals on $X^*$. Called the **second algebraic dual space** of $X$.\n",
    "- $C: X \\to X^{**}$ defined by $C(x) = g_x$ where $g_x(f) = f(x)$ is the **canonical mapping**.\n",
    "- $T$ is an isomorphism of \n",
    "- - metric spaces $(X,d), (\\hat{X}, \\hat{d})$ if it is bijective and $\\hat{d}(Tx, Ty) = d(x,y)$\n",
    "- - vector spaces $X, \\hat{X}$ (over the same field) if it is bijective and $T(x+y)=Tx+Ty$ and $T(\\alpha x)=\\alpha Tx$. i.e. $T$ is a bijective linear operator\n",
    "- isomorphisms for normed spaces are vector space isomorphism that also preserve norms\n",
    "- if $X$ is isomorphic with a subspace of vector space $Y$, then $X$ is **embeddable** in $Y$\n",
    "- - $X$ is embeddable in $X^{**}$, and $C$ is the **canonical embedding**\n",
    "- - if $X$ is bijective, so that $R(C) = X^{**}$, then $X$ is **algebraically reflexive**\n",
    "- - next section: $X$ finite dimensional $\\implies$ $X$ algebraically reflexive"
   ]
  },
  {
   "cell_type": "markdown",
   "metadata": {},
   "source": [
    "###2.9 Linear  Operators  and  Functionals  on  Finite Dimensional Spaces\n",
    "\n",
    "- $T:X \\to Y$ with $X,Y$ finite dimensional vector spaces over the same field, with basis $\\{e_1, \\ldots, e_n\\}$ and $\\{b_1, \\ldots, b_r\\}$.\n",
    "- If the $n$ images $Te_1, \\ldots, Te_n$ are prescribed, then $T$ is uniquely determined.\n",
    "- If $x = \\sum_{i=1}^n \\xi_i e_i$ and $Te_k = \\sum_{j=1}^r \\tau_{jk}b_j$ then $y = Tx = \\sum_{k=1}^n \\xi_k Te_k = \\sum_{j=1}^r \\eta_i b_j $ where $ \\eta_j = \\sum_{k=1}^n \\tau_{jk} \\xi_k$ for $j=1,\\ldots, r$.\n",
    "- This gives us a matrix $T_{EB} = (\\tau_{jk})$ with $r$ rows and $n$ columns, uniquely determined by the linear operator $T$.\n",
    "- $T_{EB}$ **represents** the operator $T$ wrt to those bases\n",
    "\n",
    "\n",
    "The **dual basis** of the basis $\\{e_1, \\ldots, e_n\\}$ of $X$ is $f_k(e_j) = \\delta_{jk} = \\begin{cases} 0 \\; j \\ne k;\\\\ 1 \\; j=k \\end{cases}$. It is indeed a basis for $X^*$:\n",
    "\n",
    "**Theorem**: $X$ an $n$-dimensional vector space with basis $\\{e_1, \\ldots, e_n\\}$. Then $\\{f_1, \\ldots, f_n\\}$ as above is a basis for the algebraic dual space $X^*$, and $\\dim X^* = \\dim X = n$.\n",
    "\n",
    "**Lemma**: $X$ finite dimensional vector space. If $x_0 \\in X$ is such that $f(x_0) = 0$ for all $f \\in X^*$, then $x_0=0$.\n",
    "\n",
    "**Theorem**: <font color='A61927'>Every finite dimensional vector space is algebraically reflexive.</font>"
   ]
  },
  {
   "cell_type": "markdown",
   "metadata": {},
   "source": [
    "\n",
    "###2.10 Normed Spaces of Operators, Dual Space\n",
    "\n",
    "- $B(X,Y)$ is the set of all bounded linear operators from $X$ to $Y$ (normed spaces).\n",
    "- $B(X,Y)$ is a vector space, where operators work as expected: $(T_1+T_2)x = T_1x+T_2x$ and $(\\alpha T)x=\\alpha Tx$.\n",
    "\n",
    "**Theorem**: $B(X,Y)$ is a normed space with normed defined by $||T|| = \\sup_{x\\in X, x \\ne 0} ||Tx||/||x|| = \\sup_{x\\in X, ||x||=1} ||Tx||$.\n",
    "\n",
    "**Theorem**: <font color='A61927'>$Y$ Banach space $\\implies B(X,Y)$ Banach space.</font>\n",
    "\n",
    "- $X'$: **dual space** of $X$, is the set of all bounded linear functionals on a normed space $X$, with norm $||f|| = \\sup_{x\\in X, x \\ne 0} ||f(x)||/||x|| = \\sup_{x\\in X, ||x||=1} ||f(x)||$.\n",
    "\n",
    "The following follows from the previous theorem, with $Y=\\mathbf{R}$ or $\\mathbf{C}$.\n",
    "\n",
    "**Theorem**: <font color='A61927'>The dual space $X'$ of a normed space $X$ is a Banach space (even if $X$ isn't).</font>\n",
    "\n",
    "An **isomorphism** $T:X \\to \\hat{X}$ between normed spaces is a bijective linear operator such that $||Tx||=||x||$ for all $x \\in X$. ($T$ is isometric)\n",
    "\n",
    "Instead of saying \"isomorpihic\" we just say \"is\". Examples:\n",
    "\n",
    "- dual space of $\\mathbf{R}^n$ is $\\mathbf{R}^n$\n",
    "- dual space of $\\mathbf{l}^1$ is $\\mathbf{l}^{\\infty}$\n",
    "- dual space of $\\mathbf{l}^p$ is $\\mathbf{l}^q$, where $q$ is s.t. $1/p + 1/q = 1$\n",
    "\n",
    "\n",
    "\n"
   ]
  },
  {
   "cell_type": "markdown",
   "metadata": {},
   "source": [
    "#3 Inner Product Spaces. Hilbert Spaces"
   ]
  },
  {
   "cell_type": "markdown",
   "metadata": {},
   "source": [
    "### 3.1 Inner Product Spaces. Hilbert Space\n",
    "\n",
    "- **inner product space** (or pre-Hilbert space) is a vector space $X$ with an inner product defined on $X$\n",
    "- **Hilbert space**: a commplete inner product space (complete in the metric defined by the inner product)\n",
    "- **inner product**: $\\langle \\cdot, \\cdot \\rangle : X \\times X \\to K$ must satisfy:\n",
    "- - $\\langle x+y, z \\rangle = \\langle x,z\\rangle + \\langle y,z\\rangle$\n",
    "- - $\\langle \\alpha x, y\\rangle = \\alpha \\langle x,y\\rangle$\n",
    "- - $\\langle x,y\\rangle = \\overline{\\langle y,x \\rangle}$\n",
    "- - $\\langle x,x\\rangle = \\ge 0$, with equality $\\iff x=0$\n",
    "- an inner product defines \n",
    "- - a norm on $X$ via $||x|| = \\sqrt{\\langle x,x \\rangle}$\n",
    "- - a metric on $X$ via $d(x,y) = ||x-y|| = \\sqrt{\\langle x-y,x-y \\rangle}$\n",
    "\n",
    "Thus, an inner product space is a normed space, and a Hilbert space is a Banach space (but not necessarily vice versa)\n",
    ".\n",
    "\n",
    "The inner product rules give:\n",
    "- - $\\langle \\alpha x+ \\beta y, z \\rangle = \\alpha \\langle  x, z \\rangle + \\beta \\langle  y, z \\rangle$\n",
    "- - $\\langle  x, \\alpha y \\rangle  = \\overline{\\alpha} \\langle x,y \\rangle$\n",
    "- - $\\langle x, \\alpha y + \\beta z \\rangle = \\overline{\\alpha} \\langle  x, y \\rangle + \\overline{\\beta} \\langle  x, z \\rangle$\n",
    "\n",
    "- a norm on an inner product space satisfies the **parallelogram equality**: ${||x+y||}^2 + {||x-y||}^2 = 2({||x||}^2 + {||y||}^2)$\n",
    "\n",
    "Not all normed spaces are inner product spaces.\n",
    "\n",
    "- **orthogonality**: $x,y \\in X$ are *orthogonal* if $\\langle x,y \\rangle = 0$.\n",
    "\n",
    "Some Hilbert spaces:\n",
    "\n",
    "- Euclidean space $\\mathbf{R}^n$: \n",
    "- - $\\langle x, y \\rangle = \\xi_1 \\eta_1 + \\cdots + \\xi_n \\eta_n$\n",
    "- - norm $||x|| = \\langle x, x \\rangle = (\\xi_1^2  + \\cdots + \\xi_n^2)^{1/2}$\n",
    "- - metric $d(x,y) = {\\langle x-y, x-y \\rangle}^{1/2} = {\\left[(\\xi_1-\\eta_1)^2 + \\cdots + (\\xi_n - \\eta_n)^2\\right]}^{1/2}$\n",
    "- Unitary space $\\mathbf{C}^n$: \n",
    "- - $\\langle x, y \\rangle = \\xi_1 \\overline{\\eta_1} + \\cdots + \\xi_n \\overline{\\eta_n}$\n",
    "- - norm $||x|| = \\langle x, x \\rangle = (|\\xi_1|^2  + \\cdots + |\\xi_n|^2)^{1/2}$\n",
    "- Sequence space $\\mathbf{l}^2$:\n",
    "- - $\\langle x,y \\rangle = \\sum_{j=1}^{\\infty} \\xi_j \\overline{\\eta_j} \\;\\;$ (this converges by Cauchy-Schwarz)\n",
    "- - norm: $||x|| = \\langle x,x \\rangle^{1/2} = \\left( \\sum_{j=1}^{\\infty} |\\xi_j|^2 \\right)^{1/2}$\n",
    "\n",
    "Some non-Hilbert spaces:\n",
    "\n",
    "Sequence space $\\mathbf{l}^p$ with $p \\ne 2$ is a Banach space, but not a Hilbert space. In fact, this is not even a normed space. Take $x=(1,1,0,0,\\ldots)$ and $y=(1,-1, 0, 0, \\ldots)$. Then $||x|| = ||y|| = 2^{1/p}$ but $||x+y|| = ||x-y||=2$, so parallelogram doesn't hold.\n"
   ]
  }
 ],
 "metadata": {
  "kernelspec": {
   "display_name": "Python 3",
   "language": "python",
   "name": "python3"
  },
  "language_info": {
   "codemirror_mode": {
    "name": "ipython",
    "version": 3
   },
   "file_extension": ".py",
   "mimetype": "text/x-python",
   "name": "python",
   "nbconvert_exporter": "python",
   "pygments_lexer": "ipython3",
   "version": "3.4.3"
  }
 },
 "nbformat": 4,
 "nbformat_minor": 0
}
