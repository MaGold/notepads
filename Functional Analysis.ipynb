{
 "cells": [
  {
   "cell_type": "markdown",
   "metadata": {},
   "source": [
    "##Metric Spaces\n",
    "- $\\mathbf{R}^n$ and $\\mathbf{C}^n$.\n",
    "- Metric: $d(x,y) = \\left(\\sum_{j=1}^n |\\xi - \\nu_i|^n \\right)^{1/n}$.\n",
    "\n",
    "\n",
    "- $\\mathbf{l}^p$: Set of infinite sequences $x = \\xi_1, \\xi2, \\ldots$ s.t. $\\sum_{i=1}^\\infty |\\xi_i|^p$ converges. \n",
    "- Metric: $d(x,y) = \\left(\\sum_{j=1}^\\infty |\\xi - \\nu_i|^p \\right)^{1/p}$.\n",
    "\n",
    "\n",
    "- $\\mathbf{l}^\\infty$: Set of bounded sequences in $\\mathbf{C}$. i.e. $\\{(\\xi_1, \\xi2, \\ldots) : |\\xi_i| \\le c\\}$. \n",
    "- Metric: $d(x,y) = \\sup_{j \\in \\mathbf{N}} |\\xi_i - \\nu_i|$.\n",
    "\n",
    "\n",
    "- $C[a,b]$: Set of all real-valued continuous functions from the interval $[a,b]$ to $\\mathbf{R}$.\n",
    "- Metric: $d(x,y) = \\max_{t \\in [a,b]} |x(t)-y(t)|$ (note: $x,y$ are functions)\n",
    "\n",
    "\n",
    "- Discrete metric space on any set $X$.\n",
    "- Metric: $d(x,x) = 0$ and $d(x,y)=1$ if $x \\ne y$.\n",
    "\n",
    "\n",
    "- $\\mathbf{s}$: Set of all infinite sequences in $\\mathbf{C}$.\n",
    "- Metric: $d(x,y) = \\sum \\frac{1}{2^j} \\frac{|\\xi_j - \\nu_j|}{1+|\\xi_j - \\nu_j|}$"
   ]
  },
  {
   "cell_type": "markdown",
   "metadata": {},
   "source": [
    "All of the above are **complete**; all Cauchy sequences converge to a point in the space.\n",
    "\n",
    "Some incomplete spaces are:\n",
    "- Rationals with $d(x,y)=|x-y|$; \n",
    "- $C[0,1]$ with $d(x,y)=\\int_0^1 |x(t)-y(t)|dt$."
   ]
  },
  {
   "cell_type": "markdown",
   "metadata": {},
   "source": [
    "###Completion of metric spaces\n",
    "\n",
    "Let $X=(X,d)$ and $\\widetilde{X} = (\\widetilde{X}, \\widetilde{d})$ be metric spaces.\n",
    "- A mappintg $T: X \\to \\widetilde{X}$ is an **isomety** if for all $x,y \\in X$ we have $\\widetilde{d}(Tx, Ty) = d(x,y)$.\n",
    "- $X$ and $\\widetilde{X}$ are **isometric** if there exists a  bijective isometry between them.\n",
    "\n",
    "**Theorem**: Let $(X,d)$ be a metric space. There exists a unique complete metric space $(\\widetilde{X}, \\widetilde{d})$ with a subspace $W$ such that\n",
    "- $W$ is isometric to $X$;\n",
    "- $W$ is dense in $\\widetilde{X}$.\n"
   ]
  },
  {
   "cell_type": "markdown",
   "metadata": {},
   "source": [
    "- A subset $M$ of a metric space $X$ is **dense** in $X$ if $\\overline{M} = X$.\n",
    "- $X$ is separable if it has a countable subset that is dense in $X$.     \n",
    "\n",
    "Examples\n",
    "- $\\mathbf{R}$ is separable because of $\\mathbf{Q}$.\n",
    "- $\\mathbf{C}$ is separable, similarly.\n",
    "- A discrete metric space is separable $\\iff$ $X$ is countable.\n",
    "- $\\mathbf{l}^{p}$ is separable.\n",
    "- $\\mathbf{l}^{\\infty}$ is **not** separable."
   ]
  },
  {
   "cell_type": "markdown",
   "metadata": {},
   "source": [
    "Facts:\n",
    "\n",
    "Let $M$ be a subspace of a metric space $X$. Then $M$ is complete $\\iff$ $M$ is closed in $X$."
   ]
  },
  {
   "cell_type": "markdown",
   "metadata": {},
   "source": [
    "##Normed spaces\n",
    "\n",
    "A **norm** $||\\cdot||$ on a vector space $X$ is a real-valued function on $X$ such that for all $x,y \\in X$ and scalars $\\alpha$:\n",
    "- $||x|| \\ge 0$;\n",
    "- $||x|| = 0 \\iff x=0$;\n",
    "- $||\\alpha x|| = |\\alpha| ||x||$;\n",
    "- $||x+y|| \\le ||x|| + ||y||$.\n",
    "\n",
    "A **normed space** is a vector space with a norm defined on it.\n",
    "\n",
    "A norm on $X$ induces a metric $d$ by $d(x,y) = ||x-y||$.\n",
    "\n",
    "A **Banach space** is a normed space that is complete wrt its induced metric.\n",
    "\n",
    "Norm is continuous; i.e. the mapping $x \\to ||x||$ is a continuous mapping from $X$ to $\\mathbf{R}$."
   ]
  },
  {
   "cell_type": "markdown",
   "metadata": {},
   "source": [
    "###Examples\n",
    "\n",
    "- $\\mathbf{R}^n$ and $\\mathbf{C}^n$ are Banach spaces with norm $||x|| = \\left(\\sum_{j=1}^n |\\xi|^2 \\right)^{1/2}$.\n",
    "- $\\mathbf{l}^p$ is a Banach space with norm $||x|| = \\left(\\sum_{j=1}^\\infty |\\xi|^p \\right)^{1/p}$. The induced metric is thus $d(x,y) = ||x-y|| = \\left(\\sum_{j=1}^\\infty |\\xi - \\nu_i|^p \\right)^{1/p}$.\n",
    "- $\\mathbf{l}^\\infty$ is a Banach space with norm $||x|| = \\sup_j |\\xi_j|$."
   ]
  },
  {
   "cell_type": "markdown",
   "metadata": {},
   "source": [
    "Not every metric space on a vector space is obtained from a norm.\n",
    "\n",
    "A metric $d$ induced by a norm on a normed space $X$ must satisfy the following for all $x,y,z \\in X$ and scalar $\\alpha$:\n",
    "- $d(x+z, y+z) = d(x,y)$;\n",
    "- $d(\\alpha x, \\alpha y) = |\\alpha| d(x,y)$.\n",
    "\n",
    "The sequence space $\\mathbf{s}$ is not obtained from a norm."
   ]
  },
  {
   "cell_type": "markdown",
   "metadata": {},
   "source": [
    "##Properties of normed spaces\n",
    "\n",
    "\n",
    "**Theorem**: <font color='A61927'>Let $Y$ be a subspace of a Banach space $X$. Then $Y$ is complete $\\iff$ $Y$ is closed in $X$.</font>\n",
    "\n",
    "###Series and Basis:\n",
    "\n",
    "Let $(x_n)$ be a sequence in a normed space $X$. Let $s_n = \\sum^n_{i=1} x_i$. The sequences of partial sums $(s_n)$ is **convergent** if $||s_n -s|| \\to 0$ for some $s \\in X$, then the sum of the series is $s$. If $\\sum ||x_n||$ converges then the series $\\sum x_i$ is **absolutely convergent**.\n",
    "\n",
    "If there exists a sequence $(e_n)$ such that for every $x \\in X$ there exists a unique sequence of scalars $(\\alpha_n)$ for which $\\lim_{n \\to \\infty} || x - (\\alpha_1e_1 + \\cdots + \\alpha_ne_n)|| = 0$, then $(e_n)$ is a **basis** for $X$.\n",
    "\n",
    "- If a normed space has a basis, then it is separable.\n",
    "- not every seperable Banach space has a basis.\n",
    "\n",
    "**Theorem**: Let $(X, || \\cdot ||)$ be a normed space. Then there is a Banach space $\\hat{X}$ and an isometry $A:X \\to W$ where $W \\subseteq \\hat{X}$ is dense in $\\hat{X}$. $\\hat{X}$ is unique up to isometry."
   ]
  },
  {
   "cell_type": "markdown",
   "metadata": {},
   "source": [
    "###Finite dimensional spaces\n",
    "\n",
    "**Lemma**: Let $\\{x_1, \\ldots, x_n\\}$ be linearly independent in normed space $X$. Then $\\exists \\; c>0$ s.t. for all scalars $\\alpha_1, \\ldots, \\alpha_n$ we have $|| \\alpha_1x_1 + \\cdots + \\alpha_nx_n|| \\ge c(|\\alpha_1| + \\cdots \\alpha_n|)$.\n",
    "\n",
    "**Theorem**: <font color='A61927'>$Y$ finite dimensional subspace of a complete normed space $\\implies$ $Y$ is complete. ($\\implies$ every finite dimensional normed space is complete).</font>\n",
    "\n",
    "**Theorem**: <font color='A61927'>Every finite dimensional subspace of a normed space $X$ is closed in $X$.</font>\n",
    "\n",
    "- Not true for the infinite case: span of $\\{0, t, t^2, t^3, \\ldots\\}$ in $C[0,1]$ does not contain $e^t$, but there is a sequence of polynomials that converge to it."
   ]
  }
 ],
 "metadata": {
  "kernelspec": {
   "display_name": "Python 3",
   "language": "python",
   "name": "python3"
  },
  "language_info": {
   "codemirror_mode": {
    "name": "ipython",
    "version": 3
   },
   "file_extension": ".py",
   "mimetype": "text/x-python",
   "name": "python",
   "nbconvert_exporter": "python",
   "pygments_lexer": "ipython3",
   "version": "3.4.3"
  }
 },
 "nbformat": 4,
 "nbformat_minor": 0
}
