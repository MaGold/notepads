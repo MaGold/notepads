{
 "cells": [
  {
   "cell_type": "markdown",
   "metadata": {},
   "source": [
    "#1 Metric Spaces\n",
    "- $\\mathbf{R}^n$ and $\\mathbf{C}^n$.\n",
    "- Metric: $d(x,y) = \\left(\\sum_{j=1}^n |\\xi_i - \\nu_i|^n \\right)^{1/n}$.\n",
    "\n",
    "\n",
    "- $\\mathbf{l}^p$: Set of infinite sequences $x = \\xi_1, \\xi2, \\ldots$ s.t. $\\sum_{i=1}^\\infty |\\xi_i|^p$ converges. \n",
    "- Metric: $d(x,y) = \\left(\\sum_{j=1}^\\infty |\\xi_i - \\nu_i|^p \\right)^{1/p}$.\n",
    "\n",
    "\n",
    "- $\\mathbf{l}^\\infty$: Set of bounded sequences in $\\mathbf{C}$. i.e. $\\{(\\xi_1, \\xi2, \\ldots) : |\\xi_i| \\le c\\}$. \n",
    "- Metric: $d(x,y) = \\sup_{j \\in \\mathbf{N}} |\\xi_i - \\nu_i|$.\n",
    "\n",
    "\n",
    "- $C[a,b]$: Set of all real-valued continuous functions from the interval $[a,b]$ to $\\mathbf{R}$.\n",
    "- Metric: $d(x,y) = \\max_{t \\in [a,b]} |x(t)-y(t)|$ (note: $x,y$ are functions)\n",
    "\n",
    "\n",
    "- Discrete metric space on any set $X$.\n",
    "- Metric: $d(x,x) = 0$ and $d(x,y)=1$ if $x \\ne y$.\n",
    "\n",
    "\n",
    "- $\\mathbf{s}$: Set of all infinite sequences in $\\mathbf{C}$.\n",
    "- Metric: $d(x,y) = \\sum \\frac{1}{2^j} \\frac{|\\xi_j - \\nu_j|}{1+|\\xi_j - \\nu_j|}$"
   ]
  },
  {
   "cell_type": "markdown",
   "metadata": {},
   "source": [
    "All of the above are **complete**; all Cauchy sequences converge to a point in the space.\n",
    "\n",
    "Some incomplete spaces are:\n",
    "- Rationals with $d(x,y)=|x-y|$; \n",
    "- $C[0,1]$ with $d(x,y)=\\int_0^1 |x(t)-y(t)|dt$."
   ]
  },
  {
   "cell_type": "markdown",
   "metadata": {},
   "source": [
    "###Completion of metric spaces\n",
    "\n",
    "Let $X=(X,d)$ and $\\widetilde{X} = (\\widetilde{X}, \\widetilde{d})$ be metric spaces.\n",
    "- A mappintg $T: X \\to \\widetilde{X}$ is an **isomety** if for all $x,y \\in X$ we have $\\widetilde{d}(Tx, Ty) = d(x,y)$.\n",
    "- $X$ and $\\widetilde{X}$ are **isometric** if there exists a  bijective isometry between them.\n",
    "\n",
    "**Theorem**: <font color='A61927'>Let $(X,d)$ be a metric space. There exists a unique complete metric space $(\\widetilde{X}, \\widetilde{d})$ with a subspace $W$ such that\n",
    "- $W$ is isometric to $X$;\n",
    "- $W$ is dense in $\\widetilde{X}$.\n",
    "</font>"
   ]
  },
  {
   "cell_type": "markdown",
   "metadata": {},
   "source": [
    "- A subset $M$ of a metric space $X$ is **dense** in $X$ if $\\overline{M} = X$.\n",
    "- $X$ is separable if it has a countable subset that is dense in $X$.     \n",
    "\n",
    "Examples\n",
    "- $\\mathbf{R}$ is separable because of $\\mathbf{Q}$.\n",
    "- $\\mathbf{C}$ is separable, similarly.\n",
    "- A discrete metric space is separable $\\iff$ $X$ is countable.\n",
    "- $\\mathbf{l}^{p}$ is separable.\n",
    "- $\\mathbf{l}^{\\infty}$ is **not** separable."
   ]
  },
  {
   "cell_type": "markdown",
   "metadata": {},
   "source": [
    "**Theorem**: Let $M$ be a subspace of a metric space $X$. Then $M$ is complete $\\iff$ $M$ is closed in $X$."
   ]
  },
  {
   "cell_type": "markdown",
   "metadata": {},
   "source": [
    "#2 Normed spaces and Banach spaces"
   ]
  },
  {
   "cell_type": "markdown",
   "metadata": {},
   "source": [
    "###2.1 Vector spaces\n",
    "\n",
    "###2.2 Normed space, Banach space\n",
    "A **norm** $||\\cdot||$ on a vector space $X$ is a real-valued function on $X$ such that for all $x,y \\in X$ and scalars $\\alpha$:\n",
    "- $||x|| \\ge 0$;\n",
    "- $||x|| = 0 \\iff x=0$;\n",
    "- $||\\alpha x|| = |\\alpha| ||x||$;\n",
    "- $||x+y|| \\le ||x|| + ||y||$.\n",
    "\n",
    "A **normed space** is a vector space with a norm defined on it.\n",
    "\n",
    "A norm on $X$ induces a metric $d$ by $d(x,y) = ||x-y||$.\n",
    "\n",
    "A **Banach space** is a normed space that is complete wrt its induced metric.\n",
    "\n",
    "Norm is continuous; i.e. the mapping $x \\to ||x||$ is a continuous mapping from $X$ to $\\mathbf{R}$."
   ]
  },
  {
   "cell_type": "markdown",
   "metadata": {},
   "source": [
    "Examples\n",
    "\n",
    "- $\\mathbf{R}^n$ and $\\mathbf{C}^n$ are Banach spaces with norm $||x|| = \\left(\\sum_{j=1}^n |\\xi|^2 \\right)^{1/2}$.\n",
    "- $\\mathbf{l}^p$ is a Banach space with norm $||x|| = \\left(\\sum_{j=1}^\\infty |\\xi|^p \\right)^{1/p}$. The induced metric is thus $d(x,y) = ||x-y|| = \\left(\\sum_{j=1}^\\infty |\\xi - \\nu_i|^p \\right)^{1/p}$.\n",
    "- $\\mathbf{l}^\\infty$ is a Banach space with norm $||x|| = \\sup_j |\\xi_j|$."
   ]
  },
  {
   "cell_type": "markdown",
   "metadata": {},
   "source": [
    "Not every metric space on a vector space is obtained from a norm.\n",
    "\n",
    "A metric $d$ induced by a norm on a normed space $X$ must satisfy the following for all $x,y,z \\in X$ and scalar $\\alpha$:\n",
    "- $d(x+z, y+z) = d(x,y)$;\n",
    "- $d(\\alpha x, \\alpha y) = |\\alpha| d(x,y)$.\n",
    "\n",
    "The sequence space $\\mathbf{s}$ is not obtained from a norm."
   ]
  },
  {
   "cell_type": "markdown",
   "metadata": {},
   "source": [
    "###2.3 Properties of normed spaces (series and basis)\n",
    "\n",
    "**Theorem**: <font color='A61927'>Let $Y$ be a subspace of a Banach space $X$. Then $Y$ is complete $\\iff$ $Y$ is closed in $X$.</font>\n",
    "\n",
    "Let $(x_n)$ be a sequence in a normed space $X$. Let $s_n = \\sum^n_{i=1} x_i$. The sequences of partial sums $(s_n)$ is **convergent** if $||s_n -s|| \\to 0$ for some $s \\in X$, then the sum of the series is $s$. If $\\sum ||x_n||$ converges then the series $\\sum x_i$ is **absolutely convergent**.\n",
    "\n",
    "If there exists a sequence $(e_n)$ such that for every $x \\in X$ there exists a unique sequence of scalars $(\\alpha_n)$ for which $\\lim_{n \\to \\infty} || x - (\\alpha_1e_1 + \\cdots + \\alpha_ne_n)|| = 0$, then $(e_n)$ is a **basis** for $X$.\n",
    "\n",
    "- If a normed space has a basis, then it is separable.\n",
    "- not every seperable Banach space has a basis.\n",
    "\n",
    "**Theorem**: Let $(X, || \\cdot ||)$ be a normed space. Then there is a Banach space $\\hat{X}$ and an isometry $A:X \\to W$ where $W \\subseteq \\hat{X}$ is dense in $\\hat{X}$. $\\hat{X}$ is unique up to isometry."
   ]
  },
  {
   "cell_type": "markdown",
   "metadata": {},
   "source": [
    "###2.4 Finite dimensional normed spaces\n",
    "\n",
    "**Lemma**: Let $\\{x_1, \\ldots, x_n\\}$ be linearly independent in normed space $X$. Then $\\exists \\; c>0$ s.t. for all scalars $\\alpha_1, \\ldots, \\alpha_n$ we have $|| \\alpha_1x_1 + \\cdots + \\alpha_nx_n|| \\ge c(|\\alpha_1| + \\cdots \\alpha_n|)$.\n",
    "\n",
    "**Theorem**: <font color='A61927'>$Y$ finite dimensional subspace of a complete normed space $\\implies$ $Y$ is complete. ($\\implies$ every finite dimensional normed space is complete).</font>\n",
    "\n",
    "**Theorem**: <font color='A61927'>Every finite dimensional subspace of a normed space $X$ is closed in $X$.</font>\n",
    "\n",
    "- Not true for the infinite case: span of $\\{0, t, t^2, t^3, \\ldots\\}$ in $C[0,1]$ does not contain $e^t$, but there is a sequence of polynomials that converge to it.\n",
    "\n",
    "Norms $||\\cdot||$ and $||\\cdot||_0$ on $X$ are *equivalent* if $\\exists\\; a,b>0$ s.t. $a ||x||_0 \\le ||x|| \\le b||x||_0$ for all $x \\in X$.\n",
    "\n",
    "- $(X, ||\\cdot||)$ and $(X, ||\\cdot||_0)$ have the same Cauchy sequences if the norms are equivalent.\n",
    "\n",
    "**Theorem**: <font color='A61927'>All norms are equivalent on a finite dimensional vector space.</font>"
   ]
  },
  {
   "cell_type": "markdown",
   "metadata": {},
   "source": [
    "###2.5 Compactness and finite dimension\n",
    "\n",
    "A metric space is *compact* if every sequence has a convergent subsequence.\n",
    "\n",
    "**Lemma**: A compact subset of a metric space is closed and bounded.\n",
    "\n",
    "Converse does not hold: Consider subset of $\\mathbf{l}^2$ given by $\\{e_1, e_2, \\ldots\\}$, where $e_1 = (1,0,0,\\ldots)$, etc... It is bounded since each element has norm 1, and it is trivially closed since it has no accumulation points, but the sequence $e_1, e_2, \\ldots$ has no convergent subsequence.\n",
    "\n",
    "**Theorem**: Let $X$ be a finite dimensional normed space and $M$ a subset of $X$. Then $M$ is compact $\\iff$ $M$ is closed and bounded.\n",
    "\n",
    "**Risz's Lemma**: Let $X$ be a normed space and $Y\\subset Z \\subseteq X$, where $Y$ is closed. Then for all $y \\in Y$ and $\\theta \\in (0,1)$ there exists a $z \\in Z$ such that $||z||=1$ and $||z-y|| \\ge \\theta$.\n",
    "\n",
    "**Theorem**: If the closed unit ball $\\{x : ||x|| \\le 1\\}$ is compact in a normed space $X$, then $X$ is of finite dimension.\n",
    "\n",
    "**Theorem**: If the mapping $T:X \\to Y$ between metric spaces is continuous, then the image of a compact subset under $T$ is also compact.\n",
    "\n",
    "**Corollary**: A continuous mapping of a compact subset $M$ of a metric space into $\\mathbf{R}$ assumes a maximum and a minimum  at some points of $M$."
   ]
  },
  {
   "cell_type": "markdown",
   "metadata": {},
   "source": [
    "###2.6 Linear Operators\n",
    "\n",
    "$T$ is a **linear operator** if \n",
    "- its domain $D(T)$ and range $R(T)$ are vector spaces over the same field ;\n",
    "- for all $x,y \\in D(T)$ and scalars $\\alpha$ we have $T(x+y)=Tx+Ty$ and $T(\\alpha x)=\\alpha Tx$.\n",
    "\n",
    "Second properties imply $T(\\alpha x + \\beta y) = \\alpha Tx + \\beta T y$ and $T0=0$.\n",
    "\n",
    "**Theorem**: Let $T$ be a linear operator. Then\n",
    "- the range $R(T)$ is a vector space;\n",
    "- $\\dim D(T) =n < \\infty \\implies \\dim R(T) \\le n$;\n",
    "- null space of $T$ is a vector space.\n",
    "\n",
    "**Theorem**: $X,Y$ vector spaces over same field. $T: D(T) \\subseteq X \\to Y$ linear operator. Then\n",
    "- $T^{-1}: R(T) \\to D(T)$ exists $\\iff$ $Tx=0$ implies $x=0$;\n",
    "- If $T^{-1}$ exists then it is a linear operator;\n",
    "- If $D(T)$ is finite dimensional and $T^{-1}$ exists then $\\dim D(T) = \\dim R(T)$.\n",
    "\n",
    "**Lemma**: $T:X \\to Y$ and $S:Y \\to Z$ bijective linear operators $\\implies (ST)^{-1}$ exists and $(ST)^{-1} = T^{-1}S^{-1}$."
   ]
  },
  {
   "cell_type": "markdown",
   "metadata": {},
   "source": [
    "###2.7 Bounded and Continuous Linear Operators\n",
    "\n",
    "Let $X,Y$ be normed vector spaces and $T:D(T) \\subseteq X \\to Y$ a linear operator. \n",
    "- $T$ is **bounded** if $\\exists c>0$ s.t. for all $x \\in D(T)$, we have $||Tx|| \\le c||x||$.\n",
    "\n",
    "These are called bounded because is $M$ is a bounded set (all vectors have norm less than constant) then the same goes for $T(M)$.\n",
    "\n",
    "- the **norm** of $T$ is $||T|| = \\sup_{x \\in D(T), x \\ne 0} \\frac{||Tx||}{||x||}$;\n",
    "- $||Tx|| \\le ||T|| \\; ||x||$;\n",
    "\n",
    "**Lemma**: Let $T$ be a bounded linear operator:\n",
    "- $||T|| = \\sup_{x \\in D(T), ||x|| =1} ||Tx||$;\n",
    "- the norm of $T$ as just defined actually is a norm.\n",
    "\n",
    "**Theorem**: If $X$ is a finite dimensional normed space then every linear operator on $X$ is bounded.\n",
    "\n",
    "**Theorem**: Let $T$ be a linear operator over normed spaces. Then\n",
    "- $T$ continuous $\\iff$ $T$ bounded;\n",
    "- $T$ continuous at a single point $\\implies$ $T$ is continuous.\n",
    "\n",
    "**Corollary**: $T$ bounded linear operator $\\implies$\n",
    "- $x_n \\to x \\implies Tx_n \\to Tx$;\n",
    "- null space of $T$ is closed.\n",
    "\n",
    "If $T_1, T_2$ bounded then $||T_1 T_2|| \\le ||T_1|| \\; ||T_2||$.\n",
    "\n",
    "**Theorem**: $T: D(T) \\to Y$ bounded linear operator where $D(T)$ is a subset of a normed space and $Y$ is a Banach space. $T$ has an extension $\\hat{T} : \\overline{D(T)} \\to Y$ s.t. $\\hat{T}$ is a bounded linear operator and $||\\hat{T}|| = ||T||$.\n"
   ]
  },
  {
   "cell_type": "markdown",
   "metadata": {},
   "source": [
    "###2.8 Linear Functionals"
   ]
  },
  {
   "cell_type": "markdown",
   "metadata": {},
   "source": [
    "###2.9 Linear  Operators  and  Functionals  on  Finite Dimensional Spaces"
   ]
  },
  {
   "cell_type": "markdown",
   "metadata": {},
   "source": [
    "###2.10 Normed Spaces of Operators, Dual Space"
   ]
  }
 ],
 "metadata": {
  "kernelspec": {
   "display_name": "Python 3",
   "language": "python",
   "name": "python3"
  },
  "language_info": {
   "codemirror_mode": {
    "name": "ipython",
    "version": 3
   },
   "file_extension": ".py",
   "mimetype": "text/x-python",
   "name": "python",
   "nbconvert_exporter": "python",
   "pygments_lexer": "ipython3",
   "version": "3.4.3"
  }
 },
 "nbformat": 4,
 "nbformat_minor": 0
}
