{
 "cells": [
  {
   "cell_type": "code",
   "execution_count": 31,
   "metadata": {
    "collapsed": false
   },
   "outputs": [],
   "source": [
    "%matplotlib inline\n",
    "\n",
    "import matplotlib\n",
    "import numpy as np\n",
    "import matplotlib.pyplot as plt\n",
    "\n"
   ]
  },
  {
   "cell_type": "code",
   "execution_count": 32,
   "metadata": {
    "collapsed": true
   },
   "outputs": [],
   "source": [
    "import itertools"
   ]
  },
  {
   "cell_type": "code",
   "execution_count": 33,
   "metadata": {
    "collapsed": false
   },
   "outputs": [],
   "source": [
    "#define some random factors\n",
    "#X1    X2\n",
    "#|      |\n",
    "#Y1 -- Y2\n",
    "\n",
    "\n",
    "def f1(x1, y1):\n",
    "    return 5+2*x1-y1\n",
    "\n",
    "\n",
    "def f2(x2, y2):\n",
    "    return x2*y2+3+4*x2\n",
    "\n",
    "def f3(y1, y2):\n",
    "    return 7*y1 + 4*y2*y1 + 2*y2 + 1\n",
    "\n"
   ]
  },
  {
   "cell_type": "markdown",
   "metadata": {},
   "source": [
    "#MRF"
   ]
  },
  {
   "cell_type": "code",
   "execution_count": 34,
   "metadata": {
    "collapsed": true
   },
   "outputs": [],
   "source": [
    "def Ptilde(x1, x2, y1, y2):\n",
    "    return f1(x1, y1)*f2(x2,y2)*f3(y1,y2)"
   ]
  },
  {
   "cell_type": "code",
   "execution_count": 35,
   "metadata": {
    "collapsed": false
   },
   "outputs": [],
   "source": [
    "def getZ():\n",
    "    Z=0\n",
    "    for x1, x2, y1, y2 in itertools.product((0, 1), repeat=4):\n",
    "        Z += Ptilde(x1=x1, x2=x2, y1=y1, y2=y2)\n",
    "    \n",
    "    return Z"
   ]
  },
  {
   "cell_type": "code",
   "execution_count": 36,
   "metadata": {
    "collapsed": true
   },
   "outputs": [],
   "source": [
    "def P(x1, x2, y1, y2):\n",
    "    return 1.0*Ptilde(x1=x1, x2=x2, y1=y1, y2=y2)/getZ()"
   ]
  },
  {
   "cell_type": "code",
   "execution_count": 37,
   "metadata": {
    "collapsed": true
   },
   "outputs": [],
   "source": [
    "def printTable():\n",
    "    mysum=0\n",
    "    tildesum=0\n",
    "    for x1, x2 in itertools.product((0, 1), repeat=2):\n",
    "        condsum=0\n",
    "        print \"---------------------\"\n",
    "        for y1, y2 in itertools.product((0, 1), repeat=2):\n",
    "            s= \"P(\"\n",
    "            s+= str(x1) + \", \" + str(x2) + \", \" + str(y1) + \", \" + str(y2)\n",
    "            s+= \"): \"\n",
    "            s+=str(P(x1=x1, x2=x2, y1=y1, y2=y2))\n",
    "            mysum += P(x1=x1, x2=x2, y1=y1, y2=y2)\n",
    "            tildesum += Ptilde(x1=x1, x2=x2, y1=y1, y2=y2)\n",
    "            print s\n",
    "            condsum += P(x1=x1, x2=x2, y1=y1, y2=y2)\n",
    "        print condsum\n",
    "    print mysum\n",
    "    print tildesum"
   ]
  },
  {
   "cell_type": "code",
   "execution_count": 38,
   "metadata": {
    "collapsed": false
   },
   "outputs": [
    {
     "name": "stdout",
     "output_type": "stream",
     "text": [
      "---------------------\n",
      "P(0, 0, 0, 0): 0.00525210084034\n",
      "P(0, 0, 0, 1): 0.015756302521\n",
      "P(0, 0, 1, 0): 0.0336134453782\n",
      "P(0, 0, 1, 1): 0.0588235294118\n",
      "0.113445378151\n",
      "---------------------\n",
      "P(0, 1, 0, 0): 0.0122549019608\n",
      "P(0, 1, 0, 1): 0.0420168067227\n",
      "P(0, 1, 1, 0): 0.078431372549\n",
      "P(0, 1, 1, 1): 0.156862745098\n",
      "0.289565826331\n",
      "---------------------\n",
      "P(1, 0, 0, 0): 0.00735294117647\n",
      "P(1, 0, 0, 1): 0.0220588235294\n",
      "P(1, 0, 1, 0): 0.0504201680672\n",
      "P(1, 0, 1, 1): 0.0882352941176\n",
      "0.168067226891\n",
      "---------------------\n",
      "P(1, 1, 0, 0): 0.0171568627451\n",
      "P(1, 1, 0, 1): 0.0588235294118\n",
      "P(1, 1, 1, 0): 0.117647058824\n",
      "P(1, 1, 1, 1): 0.235294117647\n",
      "0.428921568627\n",
      "1.0\n",
      "2856\n",
      "2856\n"
     ]
    }
   ],
   "source": [
    "printTable()\n",
    "print getZ()"
   ]
  },
  {
   "cell_type": "code",
   "execution_count": 54,
   "metadata": {
    "collapsed": false
   },
   "outputs": [
    {
     "data": {
      "text/plain": [
       "0.5185185185200203"
      ]
     },
     "execution_count": 54,
     "metadata": {},
     "output_type": "execute_result"
    }
   ],
   "source": [
    "#P(y1=1,y2=1 |x1= 0,x2=0) ? \n",
    "# P(1,1 & 0,0) = 0.0588235294118\n",
    "# P(x1=0, x2=0) = 0.168067226891 ?\n",
    "0.0588235294118 / 0.113445378151\n"
   ]
  },
  {
   "cell_type": "markdown",
   "metadata": {},
   "source": [
    "#CRF"
   ]
  },
  {
   "cell_type": "code",
   "execution_count": 39,
   "metadata": {
    "collapsed": true
   },
   "outputs": [],
   "source": [
    "def getCZ(x1, x2):\n",
    "    Z=0\n",
    "    for y1, y2 in itertools.product((0, 1), repeat=2):\n",
    "        Z += Ptilde(x1=x1, x2=x2, y1=y1, y2=y2)\n",
    "    return Z"
   ]
  },
  {
   "cell_type": "code",
   "execution_count": 40,
   "metadata": {
    "collapsed": true
   },
   "outputs": [],
   "source": [
    "def CP(x1, x2, y1, y2):\n",
    "    return 1.0*Ptilde(x1=x1, x2=x2, y1=y1, y2=y2)/getCZ(x1=x1, x2=x2)"
   ]
  },
  {
   "cell_type": "code",
   "execution_count": 47,
   "metadata": {
    "collapsed": false
   },
   "outputs": [],
   "source": [
    "def printCTable(x1, x2):\n",
    "    condsum = 0\n",
    "    for y1, y2 in itertools.product((0, 1), repeat=2):\n",
    "        s= \"P(\"\n",
    "        s+= str(y1) + \", \" + str(y2) + \" | \" + str(x1) + \", \" + str(x2) + \")\"\n",
    "        s+=str(CP(x1=x1, x2=x2, y1=y1, y2=y2))\n",
    "        print s\n",
    "        condsum += CP(x1=x1, x2=x2, y1=y1, y2=y2)\n",
    "    print condsum"
   ]
  },
  {
   "cell_type": "code",
   "execution_count": 48,
   "metadata": {
    "collapsed": false
   },
   "outputs": [
    {
     "name": "stdout",
     "output_type": "stream",
     "text": [
      "P(0, 0 | 0, 0)0.0462962962963\n",
      "P(0, 1 | 0, 0)0.138888888889\n",
      "P(1, 0 | 0, 0)0.296296296296\n",
      "P(1, 1 | 0, 0)0.518518518519\n",
      "1.0\n",
      "-------------\n",
      "P(0, 0 | 0, 1)0.0423216444982\n",
      "P(0, 1 | 0, 1)0.145102781137\n",
      "P(1, 0 | 0, 1)0.270858524788\n",
      "P(1, 1 | 0, 1)0.541717049577\n",
      "1.0\n",
      "-------------\n",
      "P(0, 0 | 1, 0)0.04375\n",
      "P(0, 1 | 1, 0)0.13125\n",
      "P(1, 0 | 1, 0)0.3\n",
      "P(1, 1 | 1, 0)0.525\n",
      "1.0\n",
      "-------------\n",
      "P(0, 0 | 1, 1)0.04\n",
      "P(0, 1 | 1, 1)0.137142857143\n",
      "P(1, 0 | 1, 1)0.274285714286\n",
      "P(1, 1 | 1, 1)0.548571428571\n",
      "1.0\n",
      "-------------\n"
     ]
    }
   ],
   "source": [
    "for x1, x2 in itertools.product((0, 1), repeat=2):\n",
    "    printCTable(x1,x2)\n",
    "    print \"-------------\""
   ]
  },
  {
   "cell_type": "code",
   "execution_count": null,
   "metadata": {
    "collapsed": true
   },
   "outputs": [],
   "source": []
  },
  {
   "cell_type": "code",
   "execution_count": null,
   "metadata": {
    "collapsed": true
   },
   "outputs": [],
   "source": []
  }
 ],
 "metadata": {
  "kernelspec": {
   "display_name": "Python 2",
   "language": "python",
   "name": "python2"
  },
  "language_info": {
   "codemirror_mode": {
    "name": "ipython",
    "version": 2
   },
   "file_extension": ".py",
   "mimetype": "text/x-python",
   "name": "python",
   "nbconvert_exporter": "python",
   "pygments_lexer": "ipython2",
   "version": "2.7.10"
  }
 },
 "nbformat": 4,
 "nbformat_minor": 0
}
