{
 "cells": [
  {
   "cell_type": "code",
   "execution_count": 33,
   "metadata": {
    "collapsed": true
   },
   "outputs": [],
   "source": [
    "%matplotlib inline\n",
    "import scipy\n",
    "import matplotlib\n",
    "import numpy as np\n",
    "import matplotlib.pyplot as plt\n",
    "\n",
    "import seaborn as sns\n",
    "sns.set(color_codes=True)"
   ]
  },
  {
   "cell_type": "markdown",
   "metadata": {},
   "source": [
    "# 3 Gaussians: \n",
    "- $N([-2, 0], diag(0.3))$\n",
    "- $N([4, 5], diag(0.5))$\n",
    "- $N([3, 2], diag(0.8))$"
   ]
  },
  {
   "cell_type": "code",
   "execution_count": 34,
   "metadata": {
    "collapsed": false,
    "scrolled": true
   },
   "outputs": [
    {
     "data": {
      "text/plain": [
       "(-10, 10)"
      ]
     },
     "execution_count": 34,
     "metadata": {},
     "output_type": "execute_result"
    },
    {
     "data": {
      "image/png": "[encoded data removed]",
      "text/plain": [
       "<matplotlib.figure.Figure at 0xf2fe940>"
      ]
     },
     "metadata": {},
     "output_type": "display_data"
    }
   ],
   "source": [
    "n=1000\n",
    "\n",
    "blue_train = 0.3*np.random.randn(n,2) + np.array([-4,0])\n",
    "plt.plot(blue_train[:,0], blue_train[:,1], 'o', color='b')\n",
    "\n",
    "orange_train = 0.5*np.random.randn(n,2) + np.array([6,5])\n",
    "plt.plot(orange_train[:,0], orange_train[:,1], 'o', color='orange')\n",
    "\n",
    "red_train = 0.7*np.random.randn(n,2) + np.array([2,2])\n",
    "plt.plot(red_train[:,0], red_train[:,1], 'o', color='red')\n",
    "\n",
    "plt.xlim([-10,10])\n",
    "plt.ylim([-10,10])"
   ]
  },
  {
   "cell_type": "markdown",
   "metadata": {},
   "source": [
    "We assume that we know there are 3 clusters, but the assignment of data points to clusters is not known to us:"
   ]
  },
  {
   "cell_type": "code",
   "execution_count": 35,
   "metadata": {
    "collapsed": false
   },
   "outputs": [
    {
     "data": {
      "text/plain": [
       "(-10, 10)"
      ]
     },
     "execution_count": 35,
     "metadata": {},
     "output_type": "execute_result"
    },
    {
     "data": {
      "image/png": "[encoded data removed]",
      "text/plain": [
       "<matplotlib.figure.Figure at 0x92c95f8>"
      ]
     },
     "metadata": {},
     "output_type": "display_data"
    }
   ],
   "source": [
    "x_train = np.vstack((blue_train, orange_train, red_train))\n",
    "\n",
    "plt.plot(x_train[:,0], x_train[:,1], '.', color='black')\n",
    "plt.xlim([-10,10])\n",
    "plt.ylim([-10,10])"
   ]
  },
  {
   "cell_type": "markdown",
   "metadata": {},
   "source": [
    "We need to learn the following parameters:\n",
    "- 3 Gaussian parameters pairs: $(\\mu_1, \\Sigma_1), (\\mu_2, \\Sigma_2), (\\mu_3, \\Sigma_3)$\n",
    "- the mixture probabilities $(\\pi_1, \\pi_2, \\pi_3)$\n",
    "\n",
    "We initialize them as:\n",
    "$\\mu_i = 0 , \\Sigma_i = I$ and $\\pi_i = 1/3$ for $i=1,2,3$\n",
    "    "
   ]
  },
  {
   "cell_type": "code",
   "execution_count": 75,
   "metadata": {
    "collapsed": true
   },
   "outputs": [],
   "source": [
    "mus = [np.zeros((2)), np.ones((2)), np.random.rand((2))]\n",
    "sigmas = [np.eye(2,2), np.eye(2,2), np.eye(2,2)]\n",
    "pi = [1/3.0, 1/3.0, 1/3.0]"
   ]
  },
  {
   "cell_type": "markdown",
   "metadata": {},
   "source": [
    "#E step"
   ]
  },
  {
   "cell_type": "code",
   "execution_count": 76,
   "metadata": {
    "collapsed": false
   },
   "outputs": [],
   "source": [
    "N = x_train.shape[0]\n",
    "K = 3\n",
    "x = x_train"
   ]
  },
  {
   "cell_type": "code",
   "execution_count": 77,
   "metadata": {
    "collapsed": false
   },
   "outputs": [],
   "source": [
    "R = np.zeros((N, K))\n",
    "for i in range(N):\n",
    "    for k in range(K):\n",
    "        x = x_train[i,:]\n",
    "        R[i,k] = pi[k] * scipy.stats.multivariate_normal.pdf(x, mus[k], sigmas[k])\n",
    "        #get normalizaing value\n",
    "        normalizer = 0.0\n",
    "        for j in range(K):\n",
    "            normalizer += pi[j] * scipy.stats.multivariate_normal.pdf(x, mus[j], sigmas[j])\n",
    "        R[i,k] = R[i,k] / normalizer\n",
    "    "
   ]
  },
  {
   "cell_type": "markdown",
   "metadata": {},
   "source": [
    "#M step"
   ]
  },
  {
   "cell_type": "code",
   "execution_count": 78,
   "metadata": {
    "collapsed": false
   },
   "outputs": [
    {
     "name": "stdout",
     "output_type": "stream",
     "text": [
      "(3000, 3)\n",
      "(3000, 2)\n"
     ]
    }
   ],
   "source": [
    "print(R.shape)\n",
    "print(x_train.shape)"
   ]
  },
  {
   "cell_type": "code",
   "execution_count": 106,
   "metadata": {
    "collapsed": false
   },
   "outputs": [
    {
     "name": "stdout",
     "output_type": "stream",
     "text": [
      "-14079.9157893\n",
      "43111.8808652\n",
      "2151.63429054\n",
      "[array([-3.65495892,  0.0743738 ]), array([ 4.30093797,  3.72054257]), array([-1.19461552,  0.99118624])]\n"
     ]
    }
   ],
   "source": [
    "r = np.zeros((K,))\n",
    "\n",
    "for k in range(K):\n",
    "    r[k] = np.sum(R[:, k])\n",
    "\n",
    "# Find new pi that maximizes Q\n",
    "for k in range(K):\n",
    "    pi[k] = r[k] / N\n",
    "    \n",
    "# Find new mus and sigmas that maximize Q\n",
    "for k in range(K):\n",
    "    m1 = np.sum(R[:, k] * x_train[:, 0]) / r[k]\n",
    "    m2 = np.sum(R[:, k] * x_train[:, 1]) / r[k]\n",
    "    mus[k] = np.array([m1, m2])\n",
    "    \n",
    "    sum = 0.0\n",
    "    for i in range(N):\n",
    "        sum += R[i,k] * np.dot(x_train[i,:] - mus[k], (x_train[i,:] - mus[k]).T)\n",
    "    \n",
    "    sig = sum / r[k] - mus[k]\n",
    "        \n",
    "    sig = np.sum(R[:,k] * np.dot(x_train, x_train.T)) / r[k] - np.dot(mus[k], mus[k].T)\n",
    "    #sig1 = np.sum(R[:,k] * (np.dot((x_train - mus[k]) , (x_train - mus[k]).T))) / r[k]\n",
    "    print(sig)\n",
    "print(mus)"
   ]
  },
  {
   "cell_type": "code",
   "execution_count": null,
   "metadata": {
    "collapsed": true
   },
   "outputs": [],
   "source": []
  }
 ],
 "metadata": {
  "kernelspec": {
   "display_name": "Python 3",
   "language": "python",
   "name": "python3"
  },
  "language_info": {
   "codemirror_mode": {
    "name": "ipython",
    "version": 3
   },
   "file_extension": ".py",
   "mimetype": "text/x-python",
   "name": "python",
   "nbconvert_exporter": "python",
   "pygments_lexer": "ipython3",
   "version": "3.4.3"
  }
 },
 "nbformat": 4,
 "nbformat_minor": 0
}
